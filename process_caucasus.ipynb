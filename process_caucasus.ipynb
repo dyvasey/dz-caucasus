{
 "cells": [
  {
   "cell_type": "markdown",
   "id": "89c1598e",
   "metadata": {},
   "source": [
    "### Process Caucasus DZ Data ###\n",
    "This notebook uses the accompanying dz module (dz.py) to process compiled Caucasus DZ data."
   ]
  },
  {
   "cell_type": "code",
   "execution_count": 1,
   "id": "94dae768",
   "metadata": {},
   "outputs": [],
   "source": [
    "# Imports - run first\n",
    "import pandas as pd\n",
    "import numpy as np\n",
    "import matplotlib.pyplot as plt\n",
    "\n",
    "from geoscripts.dz import dz"
   ]
  },
  {
   "cell_type": "markdown",
   "id": "4bb6f81a",
   "metadata": {},
   "source": [
    "This cell reads in the data from the Metadata table and creates DZ sample objects"
   ]
  },
  {
   "cell_type": "code",
   "execution_count": 2,
   "id": "09b3cc10",
   "metadata": {},
   "outputs": [],
   "source": [
    "# Import Data and Create DZ Objects\n",
    "metadata = pd.read_excel('Metadata-Table-Caucasus.xlsx')\n",
    "\n",
    "names = metadata['Sample Name']\n",
    "sources = metadata['Source']\n",
    "latitudes = metadata['Latitude (°N)']\n",
    "longitudes = metadata['Longitude (°E)']\n",
    "rep_ages = metadata['Reported Age']\n",
    "sample_type = metadata['Type']\n",
    "\n",
    "color_dict = {'Modern':'red','Bedrock':'blue'}\n",
    "\n",
    "samples = [\n",
    "    dz.DZSample(name,source=sources[x],latlon=(latitudes[x],longitudes[x]),\n",
    "                reported_age=rep_ages[x],color=color_dict[sample_type[x]]) \n",
    "    for x,name in enumerate(names)\n",
    "    ]"
   ]
  },
  {
   "cell_type": "markdown",
   "id": "6d2feef4",
   "metadata": {},
   "source": [
    "This cell loads in the age data from each samples' individual Excel file and adds it to the DZ object. It also plots KDEs for each sample"
   ]
  },
  {
   "cell_type": "code",
   "execution_count": 3,
   "id": "b4ffd592",
   "metadata": {},
   "outputs": [],
   "source": [
    "#%% Populate Objects with Age Data\n",
    "\n",
    "paths = [sources[x] + '/' + name + '.xlsx' for x,name in enumerate(names)]\n",
    "\n",
    "for x,sample in enumerate(samples):\n",
    "    sample.agedata = pd.read_excel(paths[x])\n",
    "    \n",
    "    if '206/207 Pb Age' not in sample.agedata:\n",
    "        sample.agedata['206/207 Pb Age'] = np.nan\n",
    "    \n",
    "    sample.calc_bestage('238/206 U-Pb Age','206/207 Pb Age')\n",
    "    \n",
    "    sample.kde_img()\n",
    "    plt.close()\n",
    "    \n",
    "    sample.export_ages()\n",
    "    sample.save()"
   ]
  },
  {
   "cell_type": "markdown",
   "id": "d1d95dc6",
   "metadata": {},
   "source": [
    "This cell saves the data in the DZ objects to a SHP file for GIS"
   ]
  },
  {
   "cell_type": "code",
   "execution_count": 4,
   "id": "933dfa27",
   "metadata": {},
   "outputs": [
    {
     "name": "stderr",
     "output_type": "stream",
     "text": [
      "c:\\Users\\dyvas\\miniconda3\\envs\\dz\\lib\\site-packages\\geopandas\\io\\file.py:362: FutureWarning: pandas.Int64Index is deprecated and will be removed from pandas in a future version. Use pandas.Index with the appropriate dtype instead.\n",
      "  pd.Int64Index,\n",
      "c:\\Users\\dyvas\\git\\dz-caucasus\\geoscripts\\dz\\dz.py:650: UserWarning: Column names longer than 10 characters will be truncated when saved to ESRI Shapefile.\n",
      "  gdf.to_file(filename,crs='EPSG:4326')\n"
     ]
    }
   ],
   "source": [
    "#%% Save to Shapefile\n",
    "\n",
    "gdf = dz.write_file(samples,'caucasus_dz.shp')"
   ]
  },
  {
   "cell_type": "markdown",
   "id": "9c2f0a07",
   "metadata": {},
   "source": [
    "This cell exports modern samples to a separate csv for catchment analysis."
   ]
  },
  {
   "cell_type": "code",
   "execution_count": 5,
   "id": "6da10913",
   "metadata": {},
   "outputs": [],
   "source": [
    "names = []\n",
    "lats = []\n",
    "lons = []\n",
    "for sample in samples:\n",
    "    if sample.color=='red':\n",
    "        names.append(sample.name)\n",
    "        lats.append(sample.latlon[0])\n",
    "        lons.append(sample.latlon[1])\n",
    "\n",
    "data = {'Modern Sample':names,'Latitude':lats,'Longitude':lons}\n",
    "df = pd.DataFrame(data)\n",
    "df.to_csv('modern_samples.csv')"
   ]
  }
 ],
 "metadata": {
  "kernelspec": {
   "display_name": "Python 3.10.4 ('dz')",
   "language": "python",
   "name": "python3"
  },
  "language_info": {
   "codemirror_mode": {
    "name": "ipython",
    "version": 3
   },
   "file_extension": ".py",
   "mimetype": "text/x-python",
   "name": "python",
   "nbconvert_exporter": "python",
   "pygments_lexer": "ipython3",
   "version": "3.10.4"
  },
  "vscode": {
   "interpreter": {
    "hash": "d09ad7a30524e09dcd6c5f83dc9319f1548d3d69de1be543c70b0701bd04bc66"
   }
  }
 },
 "nbformat": 4,
 "nbformat_minor": 5
}
