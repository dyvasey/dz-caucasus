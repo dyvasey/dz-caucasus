{
 "cells": [
  {
   "attachments": {},
   "cell_type": "markdown",
   "id": "89c1598e",
   "metadata": {},
   "source": [
    "### Process Caucasus DZ Data ###\n",
    "This notebook compiles raw Caucasus DZ data from prior work stored in this repository and creates files used by `figs.ipynb`, `hf.ipynb`, `supp.ipynb`, and `supp_tables.ipynb`. All cells below should be run first prior to using those notebooks."
   ]
  },
  {
   "cell_type": "code",
   "execution_count": null,
   "id": "94dae768",
   "metadata": {},
   "outputs": [],
   "source": [
    "import pandas as pd\n",
    "import numpy as np\n",
    "import matplotlib.pyplot as plt\n",
    "\n",
    "from geoscripts.dz import dz"
   ]
  },
  {
   "attachments": {},
   "cell_type": "markdown",
   "id": "4bb6f81a",
   "metadata": {},
   "source": [
    "This cell reads in data from the Metadata table and creates DZ sample objects from prior publications"
   ]
  },
  {
   "cell_type": "code",
   "execution_count": null,
   "id": "09b3cc10",
   "metadata": {},
   "outputs": [],
   "source": [
    "# Import Data and Create DZ Objects\n",
    "metadata = pd.read_excel('Metadata-Table-Caucasus.xlsx')\n",
    "\n",
    "names = metadata['Sample Name']\n",
    "sources = metadata['Source']\n",
    "latitudes = metadata['Latitude (°N)']\n",
    "longitudes = metadata['Longitude (°E)']\n",
    "rep_ages = metadata['Reported Age']\n",
    "sample_type = metadata['Type']\n",
    "\n",
    "color_dict = {'Modern':'red','Bedrock':'blue'}\n",
    "\n",
    "samples = [\n",
    "    dz.DZSample(name,source=sources[x],latlon=(latitudes[x],longitudes[x]),\n",
    "                reported_age=rep_ages[x],color=color_dict[sample_type[x]]) \n",
    "    for x,name in enumerate(names)\n",
    "    ]"
   ]
  },
  {
   "attachments": {},
   "cell_type": "markdown",
   "id": "6d2feef4",
   "metadata": {},
   "source": [
    "This cell loads in the age data from each samples' individual Excel file and adds it to the DZ object. It also plots KDEs for each sample"
   ]
  },
  {
   "cell_type": "code",
   "execution_count": null,
   "id": "b4ffd592",
   "metadata": {},
   "outputs": [],
   "source": [
    "# Populate Objects with Age Data\n",
    "\n",
    "paths = [sources[x] + '/' + name + '.xlsx' for x,name in enumerate(names)]\n",
    "\n",
    "for x,sample in enumerate(samples):\n",
    "    sample.agedata = pd.read_excel(paths[x])\n",
    "    \n",
    "    if '206/207 Pb Age' not in sample.agedata:\n",
    "        sample.agedata['206/207 Pb Age'] = np.nan\n",
    "    \n",
    "    sample.calc_bestage('238/206 U-Pb Age','206/207 Pb Age',disc_cutoff=20,disc_age_cutoff=600)\n",
    "    \n",
    "    sample.kde_img()\n",
    "    plt.close()\n",
    "    \n",
    "    sample.export_ages()\n",
    "    sample.save()"
   ]
  },
  {
   "attachments": {},
   "cell_type": "markdown",
   "id": "d1d95dc6",
   "metadata": {},
   "source": [
    "This cell saves the data in the DZ objects to a SHP file for GIS use."
   ]
  },
  {
   "cell_type": "code",
   "execution_count": null,
   "id": "933dfa27",
   "metadata": {},
   "outputs": [],
   "source": [
    "#%% Save to Shapefile\n",
    "\n",
    "gdf = dz.write_file(samples,'caucasus_dz.shp')"
   ]
  },
  {
   "attachments": {},
   "cell_type": "markdown",
   "id": "9c2f0a07",
   "metadata": {},
   "source": [
    "This cell exports modern river samples to a separate csv for catchment analysis."
   ]
  },
  {
   "cell_type": "code",
   "execution_count": null,
   "id": "6da10913",
   "metadata": {},
   "outputs": [],
   "source": [
    "names = []\n",
    "lats = []\n",
    "lons = []\n",
    "for sample in samples:\n",
    "    if sample.color=='red':\n",
    "        names.append(sample.name)\n",
    "        lats.append(sample.latlon[0])\n",
    "        lons.append(sample.latlon[1])\n",
    "\n",
    "data = {'Modern Sample':names,'Latitude':lats,'Longitude':lons}\n",
    "df = pd.DataFrame(data)\n",
    "df.to_csv('modern_samples.csv')"
   ]
  }
 ],
 "metadata": {
  "kernelspec": {
   "display_name": "Python 3.10.6 ('local-geoscripts')",
   "language": "python",
   "name": "python3"
  },
  "language_info": {
   "codemirror_mode": {
    "name": "ipython",
    "version": 3
   },
   "file_extension": ".py",
   "mimetype": "text/x-python",
   "name": "python",
   "nbconvert_exporter": "python",
   "pygments_lexer": "ipython3",
   "version": "3.10.10"
  },
  "vscode": {
   "interpreter": {
    "hash": "f0fecc7f93da509b90f142515abda6685b72452058a054a4b9403d2e70ca67c4"
   }
  }
 },
 "nbformat": 4,
 "nbformat_minor": 5
}
