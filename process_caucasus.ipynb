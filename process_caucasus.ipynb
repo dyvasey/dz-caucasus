{
 "cells": [
  {
   "attachments": {},
   "cell_type": "markdown",
   "id": "89c1598e",
   "metadata": {},
   "source": [
    "### Process Caucasus DZ Data ###\n",
    "This notebook compiles raw Caucasus DZ data from prior work stored in this repository and creates files used by `figs.ipynb`, `hf.ipynb`, `supp.ipynb`, and `supp_tables.ipynb`. All cells below should be run first prior to using those notebooks."
   ]
  },
  {
   "cell_type": "code",
   "execution_count": null,
   "id": "94dae768",
   "metadata": {},
   "outputs": [],
   "source": [
    "import os\n",
    "import pandas as pd\n",
    "import numpy as np\n",
    "import matplotlib.pyplot as plt\n",
    "\n",
    "from geoscripts.dz import dz"
   ]
  },
  {
   "attachments": {},
   "cell_type": "markdown",
   "id": "4bb6f81a",
   "metadata": {},
   "source": [
    "This cell reads in data from the Metadata table and creates DZ sample objects from prior publications"
   ]
  },
  {
   "cell_type": "code",
   "execution_count": null,
   "id": "09b3cc10",
   "metadata": {},
   "outputs": [],
   "source": [
    "# Import Data and Create DZ Objects\n",
    "metadata = pd.read_excel('Metadata-Table-Caucasus.xlsx')\n",
    "\n",
    "names = metadata['Sample Name']\n",
    "sources = metadata['Source']\n",
    "latitudes = metadata['Latitude (°N)']\n",
    "longitudes = metadata['Longitude (°E)']\n",
    "rep_ages = metadata['Reported Age']\n",
    "sample_type = metadata['Type']\n",
    "\n",
    "color_dict = {'Modern':'red','Bedrock':'blue'}\n",
    "\n",
    "samples = [\n",
    "    dz.DZSample(name,source=sources[x],latlon=(latitudes[x],longitudes[x]),\n",
    "                reported_age=rep_ages[x],color=color_dict[sample_type[x]]) \n",
    "    for x,name in enumerate(names)\n",
    "    ]"
   ]
  },
  {
   "attachments": {},
   "cell_type": "markdown",
   "id": "6d2feef4",
   "metadata": {},
   "source": [
    "This cell loads in the age data from each samples' individual Excel file and adds it to the DZ object. It also plots KDEs for each sample"
   ]
  },
  {
   "cell_type": "code",
   "execution_count": null,
   "id": "b4ffd592",
   "metadata": {},
   "outputs": [],
   "source": [
    "# Populate Objects with Age Data\n",
    "\n",
    "paths = [sources[x] + '/' + name + '.xlsx' for x,name in enumerate(names)]\n",
    "\n",
    "for x,sample in enumerate(samples):\n",
    "    sample.agedata = pd.read_excel(paths[x])\n",
    "    \n",
    "    if '206/207 Pb Age' not in sample.agedata:\n",
    "        sample.agedata['206/207 Pb Age'] = np.nan\n",
    "    \n",
    "    sample.calc_bestage('238/206 U-Pb Age','206/207 Pb Age',disc_cutoff=20,disc_age_cutoff=600)\n",
    "    \n",
    "    sample.kde_img()\n",
    "    plt.close()\n",
    "    \n",
    "    sample.export_ages()\n",
    "    sample.save()"
   ]
  },
  {
   "cell_type": "code",
   "execution_count": null,
   "id": "3e5c5a0a-f8a8-45ac-bb83-e99d2cc85ff5",
   "metadata": {},
   "outputs": [],
   "source": [
    "# Redo MDAs for Pz samples from Cowgill16 and Vasey20.\n",
    "conc_dir = 'data_processing/isoplotr_rel_age_wetherill'\n",
    "os.makedirs('data_processing/isoplotr_oldsamples_ages/',exist_ok=True)\n",
    "os.makedirs(conc_dir,exist_ok=True)\n",
    "\n",
    "syst_238 = {'NW-GC':0.9,'N1':1.0,'N2':0.8,'N3':0.8,'N5':0.9}\n",
    "\n",
    "for smp in samples:\n",
    "    if smp.name in ['NW-GC','N1','N2','N3','N5']:\n",
    "        smp.calc_bestage(col_238='238/206 U-Pb Age',col_207='206/207 Pb Age',err_238='238 Error',err_207='206 Error',use_err=True,err_lev='1sig',\n",
    "        disc_cutoff=20,disc_age_cutoff=600)\n",
    "        smp.convert_1sigto2sig()\n",
    "        smp.syst_238 = syst_238[smp.name]\n",
    "\n",
    "        smp.age_238 = smp.agedata['238/206 U-Pb Age'][smp.bestage.index]\n",
    "        smp.age_235 = smp.agedata['235/207 U-Pb Age'][smp.bestage.index]\n",
    "\n",
    "        smp.agedata['75_2s'] = smp.agedata['75_1s']*2\n",
    "        smp.agedata['68_2s'] = smp.agedata['68_1s']*2\n",
    "\n",
    "        smp.calc_mda(systematic=True,filter235238=True,cutoffs235238=(80,110))\n",
    "        smp.calc_ysg(systematic=True,filter235238=False,cutoffs235238=(80,110))\n",
    "\n",
    "        # Output ratios for concordia plots\n",
    "        grain_min = np.min(smp.mda_ages.index)\n",
    "        grain_max = np.max(smp.mda_ages.index)\n",
    "\n",
    "        input_cols = ['75_ratio','75_2s','68_ratio','68_2s','rho']\n",
    "        cols = ['207Pb/235U','207Pb/235U_err','206Pb/238U','206Pb/238U_err','error_corr']\n",
    "\n",
    "        rename_dict = {cols[x]:input_cols[x] for x in range(len(cols))}\n",
    "        \n",
    "        for col in cols:\n",
    "            smp.agedata[col] = smp.agedata[rename_dict[col]]\n",
    "\n",
    "        smp.agedata['Best age'] = smp.bestage\n",
    "\n",
    "        agedata_sorted = smp.agedata.sort_values(by=['Best age'],ascending=True,ignore_index=True)\n",
    "\n",
    "        output_ygc = agedata_sorted.loc[grain_min:grain_max,cols]\n",
    "        output_ygc.to_csv(conc_dir + '/' + smp.name +'_ygcratios.csv',index=False)\n",
    "        grain_ysg = agedata_sorted[agedata_sorted['Best age']==smp.ysg].index[0]\n",
    "        \n",
    "        print(smp.name,grain_ysg,smp.ysg)\n",
    "        output_ysg = pd.DataFrame([agedata_sorted.loc[grain_ysg,cols]],columns=cols)\n",
    "        output_ysg.to_csv(conc_dir + '/' + smp.name +'_ysgratios.csv',index=False)\n",
    "        \n",
    "        \n",
    "        # Output 235/238 concordant grains for MLA\n",
    "        conc238235 = np.round((smp.age_238/smp.age_235*100),0)\n",
    "        accept = (conc238235>=80) & (conc238235<=110) \n",
    "\n",
    "        iso_ages = pd.DataFrame([],columns=['tbest','err'])\n",
    "        iso_ages['tbest'] = smp.bestage[accept]\n",
    "        \n",
    "        # Convert 2s errors to 1s\n",
    "        iso_ages['err'] = smp.besterror[accept]/2\n",
    "\n",
    "        iso_ages.to_csv('data_processing/isoplotr_oldsamples_ages/' + smp.name + '.csv',index=False)\n",
    "\n",
    "        smp.save()"
   ]
  },
  {
   "attachments": {},
   "cell_type": "markdown",
   "id": "d1d95dc6",
   "metadata": {},
   "source": [
    "This cell saves the data in the DZ objects to a SHP file for GIS use."
   ]
  },
  {
   "cell_type": "code",
   "execution_count": null,
   "id": "933dfa27",
   "metadata": {},
   "outputs": [],
   "source": [
    "#%% Save to Shapefile\n",
    "\n",
    "gdf = dz.write_file(samples,'caucasus_dz.shp')"
   ]
  },
  {
   "attachments": {},
   "cell_type": "markdown",
   "id": "9c2f0a07",
   "metadata": {},
   "source": [
    "This cell exports modern river samples to a separate csv for catchment analysis."
   ]
  },
  {
   "cell_type": "code",
   "execution_count": null,
   "id": "6da10913",
   "metadata": {},
   "outputs": [],
   "source": [
    "names = []\n",
    "lats = []\n",
    "lons = []\n",
    "for sample in samples:\n",
    "    if sample.color=='red':\n",
    "        names.append(sample.name)\n",
    "        lats.append(sample.latlon[0])\n",
    "        lons.append(sample.latlon[1])\n",
    "\n",
    "data = {'Modern Sample':names,'Latitude':lats,'Longitude':lons}\n",
    "df = pd.DataFrame(data)\n",
    "df.to_csv('modern_samples.csv')"
   ]
  }
 ],
 "metadata": {
  "kernelspec": {
   "display_name": "Python 3 (ipykernel)",
   "language": "python",
   "name": "python3"
  },
  "language_info": {
   "codemirror_mode": {
    "name": "ipython",
    "version": 3
   },
   "file_extension": ".py",
   "mimetype": "text/x-python",
   "name": "python",
   "nbconvert_exporter": "python",
   "pygments_lexer": "ipython3",
   "version": "3.10.11"
  },
  "vscode": {
   "interpreter": {
    "hash": "f0fecc7f93da509b90f142515abda6685b72452058a054a4b9403d2e70ca67c4"
   }
  }
 },
 "nbformat": 4,
 "nbformat_minor": 5
}
