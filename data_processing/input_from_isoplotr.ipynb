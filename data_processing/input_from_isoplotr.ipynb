{
 "cells": [
  {
   "cell_type": "code",
   "execution_count": null,
   "metadata": {},
   "outputs": [],
   "source": [
    "import os\n",
    "import pandas as pd\n",
    "from geoscripts.dz import dz"
   ]
  },
  {
   "cell_type": "code",
   "execution_count": null,
   "metadata": {},
   "outputs": [],
   "source": [
    "smps = dz.load_all('dz_no_filter/')\n",
    "\n",
    "os.makedirs('proc_no_filter_conc',exist_ok=True)\n",
    "\n",
    "for smp in smps:\n",
    "    print(smp.name)\n",
    "\n",
    "    # Get concordia data\n",
    "    concordia_data = pd.read_csv('concordia_no_filter/'+smp.name+'_processed.csv')\n",
    "    conc_age = concordia_data['t.conc']\n",
    "    conc_err = concordia_data['s[t.conc]'] # 2s\n",
    "    disc = concordia_data['disc']\n",
    "\n",
    "    smp.agedata.drop(['Best age','Best age_err','Conc'],axis=1,inplace=True)\n",
    "    smp.agedata.reset_index(inplace=True)\n",
    "\n",
    "    smp.agedata['Concordia age'] = conc_age\n",
    "\n",
    "    smp.agedata['Concordia age_err'] = conc_err\n",
    "    smp.agedata['Discordance'] = disc\n",
    "\n",
    "\n",
    "\n",
    "    smp.agedata.to_csv('proc_no_filter_conc/'+smp.name+'.csv')\n",
    "    \n",
    "\n",
    "\n"
   ]
  }
 ],
 "metadata": {
  "kernelspec": {
   "display_name": "local-geoscripts",
   "language": "python",
   "name": "python3"
  },
  "language_info": {
   "codemirror_mode": {
    "name": "ipython",
    "version": 3
   },
   "file_extension": ".py",
   "mimetype": "text/x-python",
   "name": "python",
   "nbconvert_exporter": "python",
   "pygments_lexer": "ipython3",
   "version": "3.10.6"
  },
  "orig_nbformat": 4
 },
 "nbformat": 4,
 "nbformat_minor": 2
}
