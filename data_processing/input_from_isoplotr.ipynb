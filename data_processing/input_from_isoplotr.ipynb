{
 "cells": [
  {
   "cell_type": "code",
   "execution_count": 1,
   "metadata": {},
   "outputs": [],
   "source": [
    "import pandas as pd\n",
    "from geoscripts.dz import dz"
   ]
  },
  {
   "cell_type": "code",
   "execution_count": 5,
   "metadata": {},
   "outputs": [
    {
     "name": "stdout",
     "output_type": "stream",
     "text": [
      "100211-1A\n",
      "100211-9A\n",
      "100411-5\n",
      "AB0913\n",
      "AB0926\n",
      "CT130918-2A\n",
      "CT130918-9A\n",
      "CT130919-5A\n",
      "CT130919-8A\n",
      "CT15076\n",
      "CT15082\n",
      "CT15092\n",
      "CT15099\n",
      "CT15113\n",
      "CT15127\n"
     ]
    }
   ],
   "source": [
    "smps = dz.load_all('dz/')\n",
    "\n",
    "for smp in smps:\n",
    "    print(smp.name)\n",
    "\n",
    "    # Get concordia data\n",
    "    concordia_data = pd.read_csv('concordia/'+smp.name+'_processed.csv')\n",
    "    conc_age = concordia_data['t.conc']\n",
    "    \n",
    "    # Output at 2s\n",
    "    conc_err = concordia_data['s[t.conc]']\n",
    "    \n",
    "\n",
    "\n"
   ]
  }
 ],
 "metadata": {
  "kernelspec": {
   "display_name": "local-geoscripts",
   "language": "python",
   "name": "python3"
  },
  "language_info": {
   "codemirror_mode": {
    "name": "ipython",
    "version": 3
   },
   "file_extension": ".py",
   "mimetype": "text/x-python",
   "name": "python",
   "nbconvert_exporter": "python",
   "pygments_lexer": "ipython3",
   "version": "3.10.6"
  },
  "orig_nbformat": 4
 },
 "nbformat": 4,
 "nbformat_minor": 2
}
