{
 "cells": [
  {
   "cell_type": "code",
   "execution_count": 17,
   "metadata": {},
   "outputs": [],
   "source": [
    "# Imports\n",
    "import os\n",
    "import pandas as pd\n",
    "import numpy as np"
   ]
  },
  {
   "cell_type": "code",
   "execution_count": 18,
   "metadata": {},
   "outputs": [],
   "source": [
    "# Identify directory for U-Pb data\n",
    "directory_no_filter = os.path.normpath('../upb_data_agecalc/no_filter/')\n",
    "directory_rel_age_filter = os.path.normpath('../upb_data_agecalc/rel_age_filter/')"
   ]
  },
  {
   "cell_type": "code",
   "execution_count": 19,
   "metadata": {},
   "outputs": [],
   "source": [
    "# Make a class for AgeCalc DZ data\n",
    "class AgeCalcDZ:\n",
    "    def __init__(self,name,accepted,rejected,standards,syst_238,syst_207):\n",
    "\n",
    "        self.name = name\n",
    "        self.accepted = accepted\n",
    "        self.rejected = rejected\n",
    "        self.standards = standards\n",
    "        self.syst_238 = syst_238\n",
    "        self.syst_207 = syst_207\n",
    "\n",
    "        return"
   ]
  },
  {
   "cell_type": "code",
   "execution_count": 20,
   "metadata": {},
   "outputs": [],
   "source": [
    "# Define function to process directory\n",
    "\n",
    "def proc_directory(directory):\n",
    "    print('Source Directory: ',directory)\n",
    "\n",
    "    output_dir = 'proc_'+ os.path.basename(directory)\n",
    "\n",
    "    os.makedirs(output_dir,exist_ok=True)\n",
    "    print('Output Directory: ',output_dir)\n",
    "\n",
    "    new_columns = (\n",
    "    ['Analysis','U','206Pb/204Pb','U/Th','206Pb/207Pb','206Pb/207Pb_err','207Pb/235U','207Pb/235U_err','206Pb/238U','206Pb/238U_err','error_corr','206Pb/238U_age','206Pb/238U_ageerr','207Pb/235U_age','207Pb/235U_ageerr','206Pb/207Pb_age','206Pb/207Pb_ageerr','Best age','Best age_err','Conc']\n",
    "    )\n",
    "\n",
    "    for root,dirs,files in os.walk(directory):\n",
    "        # Get names from dirs\n",
    "        if len(dirs)>1:\n",
    "            names = dirs\n",
    "            print(names)\n",
    "        \n",
    "        for file in files:\n",
    "            if ('_DataTable.xls' in file) & ('lock' not in file):\n",
    "                path = os.path.join(root,file)\n",
    "                \n",
    "                # Read relevant part of the Excel file\n",
    "                df = pd.read_excel(path,skiprows=25,usecols='A:T',header=None,sheet_name='Sheet1')\n",
    "                df.columns = np.arange(20)\n",
    "\n",
    "                reject = pd.read_excel(path,skiprows=25,usecols='W:AP',header=None,sheet_name='Sheet1')\n",
    "                reject.columns = np.arange(20)\n",
    "\n",
    "                stand = pd.read_excel(path,skiprows=25,usecols='AS:BL',header=None,sheet_name='Sheet1')\n",
    "                stand.columns = np.arange(20)\n",
    "\n",
    "                syst = pd.read_excel(path,skiprows=9,nrows=2,header=None,\n",
    "                                            usecols='B')\n",
    "\n",
    "                syst_238 = syst.loc[0,1]\n",
    "                syst_207 = syst.loc[1,1]\n",
    "                \n",
    "                # Remove empty rows\n",
    "                df.dropna(how='all',inplace=True)\n",
    "                reject.dropna(how='all',inplace=True)\n",
    "                \n",
    "                # Move SLs to standards\n",
    "                sl_bool = df.iloc[:,0].str.contains('SL')\n",
    "\n",
    "                sl = df[sl_bool==True]\n",
    "                df = df[sl_bool==False]\n",
    "\n",
    "                # Remove rejected standards\n",
    "                reject.iloc[:,0] = reject.iloc[:,0].astype(str)\n",
    "\n",
    "                std_reject = (\n",
    "                    (reject.iloc[:,0].str.contains('SL'))|\n",
    "                    (reject.iloc[:,0].str.contains('F'))|\n",
    "                    (reject.iloc[:,0].str.contains('R'))\n",
    "                )\n",
    "\n",
    "                reject = reject[std_reject==False]\n",
    "\n",
    "                name = file.partition('_')[0]\n",
    "\n",
    "                sample = AgeCalcDZ(name=name,accepted=df,rejected=reject,standards=stand,syst_238=syst_238,syst_207=syst_207)\n",
    "                print(sample.name, 'n=',len(sample.accepted))\n",
    "\n",
    "                output = sample.accepted\n",
    "                output.columns = new_columns\n",
    "\n",
    "                output.to_csv(output_dir + '/' + sample.name + '.csv')"
   ]
  },
  {
   "cell_type": "code",
   "execution_count": 22,
   "metadata": {},
   "outputs": [
    {
     "name": "stdout",
     "output_type": "stream",
     "text": [
      "Source Directory:  ..\\upb_data_agecalc\\no_filter\n",
      "Output Directory:  proc_no_filter\n",
      "100211-1A n= 105\n",
      "100211-9A n= 302\n",
      "100411-5 n= 41\n",
      "AB0913 n= 179\n",
      "AB0926 n= 213\n",
      "CT130918-2A n= 310\n",
      "CT130918-9A n= 292\n",
      "CT130919-5A n= 296\n",
      "CT130919-8A n= 10\n",
      "CT15076 n= 290\n",
      "CT15082 n= 10\n",
      "CT15092 n= 185\n",
      "CT15099 n= 10\n",
      "CT15113 n= 81\n",
      "CT15127 n= 5\n"
     ]
    }
   ],
   "source": [
    "# Process no filter\n",
    "\n",
    "proc_directory(directory_no_filter)\n"
   ]
  },
  {
   "cell_type": "code",
   "execution_count": 23,
   "metadata": {},
   "outputs": [
    {
     "name": "stdout",
     "output_type": "stream",
     "text": [
      "Source Directory:  ..\\upb_data_agecalc\\rel_age_filter\n",
      "Output Directory:  proc_rel_age_filter\n",
      "100211-1A n= 99\n",
      "100211-9A n= 295\n",
      "100411-5 n= 39\n",
      "AB0913 n= 179\n",
      "AB0926 n= 197\n",
      "CT130918-2A n= 285\n",
      "CT130918-9A n= 286\n",
      "CT130919-5A n= 290\n",
      "CT130919-8A n= 10\n",
      "CT15076 n= 283\n",
      "CT15082 n= 10\n",
      "CT15092 n= 183\n",
      "CT15099 n= 10\n",
      "CT15113 n= 79\n",
      "CT15127 n= 5\n"
     ]
    }
   ],
   "source": [
    "# Prcoess relative age filter\n",
    "proc_directory(directory_rel_age_filter)"
   ]
  },
  {
   "cell_type": "code",
   "execution_count": null,
   "metadata": {},
   "outputs": [],
   "source": []
  }
 ],
 "metadata": {
  "kernelspec": {
   "display_name": "local-geoscripts",
   "language": "python",
   "name": "python3"
  },
  "language_info": {
   "codemirror_mode": {
    "name": "ipython",
    "version": 3
   },
   "file_extension": ".py",
   "mimetype": "text/x-python",
   "name": "python",
   "nbconvert_exporter": "python",
   "pygments_lexer": "ipython3",
   "version": "3.10.6"
  },
  "orig_nbformat": 4
 },
 "nbformat": 4,
 "nbformat_minor": 2
}
