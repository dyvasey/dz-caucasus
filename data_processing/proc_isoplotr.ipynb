{
 "cells": [
  {
   "cell_type": "code",
   "execution_count": 1,
   "metadata": {},
   "outputs": [
    {
     "data": {
      "text/plain": [
       "R version 4.1.3 (2022-03-10)\n",
       "Platform: x86_64-w64-mingw32/x64 (64-bit)\n",
       "Running under: Windows 10 x64 (build 22621)\n",
       "\n",
       "Matrix products: default\n",
       "\n",
       "locale:\n",
       "[1] LC_COLLATE=English_United States.1252 \n",
       "[2] LC_CTYPE=English_United States.1252   \n",
       "[3] LC_MONETARY=English_United States.1252\n",
       "[4] LC_NUMERIC=C                          \n",
       "[5] LC_TIME=English_United States.1252    \n",
       "\n",
       "attached base packages:\n",
       "[1] stats     graphics  grDevices utils     datasets  methods   base     \n",
       "\n",
       "other attached packages:\n",
       "[1] IsoplotR_5.2\n",
       "\n",
       "loaded via a namespace (and not attached):\n",
       " [1] fansi_1.0.4     crayon_1.5.2    digest_0.6.31   utf8_1.2.3     \n",
       " [5] IRdisplay_1.1   repr_1.1.6      lifecycle_1.0.3 jsonlite_1.8.4 \n",
       " [9] evaluate_0.20   pillar_1.9.0    rlang_1.1.0     cli_3.6.1      \n",
       "[13] uuid_1.1-0      vctrs_0.6.1     IRkernel_1.3.2  tools_4.1.3    \n",
       "[17] glue_1.6.2      fastmap_1.1.1   compiler_4.1.3  base64enc_0.1-3\n",
       "[21] pbdZMQ_0.3-9    htmltools_0.5.5"
      ]
     },
     "metadata": {},
     "output_type": "display_data"
    }
   ],
   "source": [
    "# Load IsoplotR\n",
    "library('IsoplotR')\n",
    "sessionInfo()"
   ]
  },
  {
   "cell_type": "code",
   "execution_count": 2,
   "metadata": {},
   "outputs": [
    {
     "name": "stdout",
     "output_type": "stream",
     "text": [
      " [1] \"100211-1A.csv\"   \"100211-9A.csv\"   \"100411-5.csv\"    \"AB0913.csv\"     \n",
      " [5] \"AB0926.csv\"      \"CT130918-2A.csv\" \"CT130918-9A.csv\" \"CT130919-5A.csv\"\n",
      " [9] \"CT130919-8A.csv\" \"CT15076.csv\"     \"CT15082.csv\"     \"CT15092.csv\"    \n",
      "[13] \"CT15099.csv\"     \"CT15113.csv\"     \"CT15127.csv\"    \n"
     ]
    }
   ],
   "source": [
    "# Get files from isoplot directory\n",
    "filenames = dir('isoplotr_raw',pattern='*.csv')\n",
    "print(filenames)"
   ]
  },
  {
   "cell_type": "code",
   "execution_count": 3,
   "metadata": {},
   "outputs": [],
   "source": [
    "# Create new directories for concordia and MLA ages\n",
    "dir.create(file.path('concordia'),showWarnings=FALSE)\n",
    "dir.create(file.path('MLA'),showWarnings=FALSE)\n",
    "\n",
    "# Calculate concordia and MLA ages for each sample and output full table\n",
    "for (f in filenames) {\n",
    "    \n",
    "    # Calculate ages from isotopic data\n",
    "    filepath <- file.path('isoplotr_raw',f)\n",
    "    UPb <- read.data(filepath,method='U-Pb',format=1)\n",
    "    \n",
    "    # Ensure output ages have error at 2s and that concordia distance calculated\n",
    "    tr <- age(UPb,oerr=2,discordance=discfilter('c'))\n",
    "    \n",
    "    # Output the age results to csv\n",
    "    out_f <- sub('\\\\.csv$','_processed.csv',f)\n",
    "    out_path <- file.path('concordia',out_f)\n",
    "    write.csv(tr,file=out_path)\n",
    "    \n",
    "    # Do the discordance filter equivalent to 20% and -10% values from AgeCalcML\n",
    "    df <- discfilter(option='c',cutoff=c(-3.5,9.4))\n",
    "    \n",
    "    # Make and save radial plot\n",
    "    plot_name <- sub('\\\\.csv$','.jpg',f)\n",
    "    plot_path <- file.path('MLA',plot_name)\n",
    "    \n",
    "    jpeg(plot_path,units='in',width=6,height=6,res=300)\n",
    "    radialplot(UPb,k='min',cutoff.disc=df)\n",
    "    dev.off()\n",
    "    \n",
    "    # Get minimum age from radial plot in separate table\n",
    "    mla <- peakfit(UPb,k='min',cutoff.disc=df)\n",
    "    mla_path <- file.path('MLA',sub('\\\\.csv$','_mla.csv',f))\n",
    "    write.csv(mla$peaks,file=mla_path)\n",
    "}"
   ]
  },
  {
   "cell_type": "code",
   "execution_count": null,
   "metadata": {},
   "outputs": [],
   "source": []
  }
 ],
 "metadata": {
  "kernelspec": {
   "display_name": "R",
   "language": "R",
   "name": "ir"
  },
  "language_info": {
   "codemirror_mode": "r",
   "file_extension": ".r",
   "mimetype": "text/x-r-source",
   "name": "R",
   "pygments_lexer": "r",
   "version": "4.1.3"
  }
 },
 "nbformat": 4,
 "nbformat_minor": 2
}
