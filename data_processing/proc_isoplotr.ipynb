{
 "cells": [
  {
   "attachments": {},
   "cell_type": "markdown",
   "metadata": {},
   "source": [
    "### Process IsoplotR ###\n",
    "This is an R rather than Python notebook that does calculations using IsoplotR."
   ]
  },
  {
   "cell_type": "code",
   "execution_count": null,
   "metadata": {},
   "outputs": [],
   "source": [
    "# Load IsoplotR\n",
    "library('IsoplotR')\n",
    "sessionInfo()"
   ]
  },
  {
   "cell_type": "code",
   "execution_count": null,
   "metadata": {},
   "outputs": [],
   "source": [
    "# Get files from isoplot directory with no discordance filtering (for concordia ages, discordance filtering, and MLA)\n",
    "filenames <- dir('isoplotr_raw_no_filter',pattern='*.csv')\n",
    "print(filenames)"
   ]
  },
  {
   "cell_type": "code",
   "execution_count": null,
   "metadata": {},
   "outputs": [],
   "source": [
    "# Create new directories for concordia ages and MLA ages\n",
    "dir.create(file.path('concordia_no_filter'),showWarnings=FALSE)\n",
    "dir.create(file.path('MLA_no_filter'),showWarnings=FALSE)\n",
    "\n",
    "# Calculate concordia and MLA ages for each sample and output full table\n",
    "for (f in filenames) {\n",
    "    \n",
    "    # Calculate ages from isotopic data\n",
    "    filepath <- file.path('isoplotr_raw_no_filter',f)\n",
    "    UPb <- read.data(filepath,method='U-Pb',format=1,ierr=4)\n",
    "    \n",
    "    # Ensure output ages have error at 2s and that concordia distance calculated\n",
    "    tr <- age(UPb,oerr=2,discordance=discfilter('c'))\n",
    "    \n",
    "    # Output the age results to csv\n",
    "    out_f <- sub('\\\\.csv$','_processed.csv',f)\n",
    "    out_path <- file.path('concordia_no_filter',out_f)\n",
    "    write.csv(tr,file=out_path)\n",
    "    \n",
    "    # Do the discordance filter equivalent to 20% and -10% values from AgeCalcML\n",
    "    df <- discfilter(option='c',cutoff=c(-3.5,9.4))\n",
    "    \n",
    "    # Make and save radial plot\n",
    "    plot_name <- sub('\\\\.csv$','.pdf',f)\n",
    "    plot_path <- file.path('MLA_no_filter',plot_name)\n",
    "    \n",
    "    pdf(plot_path)\n",
    "    radialplot(UPb,k='min',cutoff.disc=df)\n",
    "    dev.off()\n",
    "    \n",
    "    # Get minimum age from radial plot in separate table\n",
    "    mla <- peakfit(UPb,k='min',cutoff.disc=df)\n",
    "    mla_path <- file.path('MLA_no_filter',sub('\\\\.csv$','_mla.csv',f))\n",
    "    write.csv(mla$peaks,file=mla_path)\n",
    "}"
   ]
  },
  {
   "cell_type": "code",
   "execution_count": null,
   "metadata": {},
   "outputs": [],
   "source": [
    "# Get files from relative age isoplot directory (for MLA)\n",
    "filenames <- dir('isoplotr_rel_age_filter',pattern='*.csv')\n",
    "print(filenames)"
   ]
  },
  {
   "cell_type": "code",
   "execution_count": null,
   "metadata": {},
   "outputs": [],
   "source": [
    "# Create new directories for MLA ages and MDS plots\n",
    "dir.create(file.path('MLA_rel_age_filter'),showWarnings=FALSE)\n",
    "\n",
    "# Calculate concordia and MLA ages for each sample and output full table\n",
    "for (f in filenames) {\n",
    "    \n",
    "    # Calculate ages from isotopic data\n",
    "    filepath <- file.path('isoplotr_rel_age_filter',f)\n",
    "    ages <- read.data(filepath,method='other',format='radial',ierr=1)\n",
    "    \n",
    "    # Make and save radial plot\n",
    "    plot_name <- sub('\\\\.csv$','.pdf',f)\n",
    "    plot_path <- file.path('MLA_rel_age_filter',plot_name)\n",
    "    \n",
    "    pdf(plot_path)\n",
    "    radialplot(ages,k='min')\n",
    "    dev.off()\n",
    "    \n",
    "    # Get minimum age from radial plot in separate table\n",
    "    mla <- peakfit(ages,k='min')\n",
    "    mla_path <- file.path('MLA_rel_age_filter',sub('\\\\.csv$','_mla.csv',f))\n",
    "    write.csv(mla$peaks,file=mla_path)\n",
    "}"
   ]
  },
  {
   "cell_type": "code",
   "execution_count": null,
   "metadata": {},
   "outputs": [],
   "source": [
    "# Get files from old samples isoplot directory (for MLA)\n",
    "filenames <- dir('isoplotr_oldsamples_ages',pattern='*.csv')\n",
    "print(filenames)"
   ]
  },
  {
   "cell_type": "code",
   "execution_count": null,
   "metadata": {},
   "outputs": [],
   "source": [
    "# Calculate MLA ages for each sample and output full table\n",
    "for (f in filenames) {\n",
    "    \n",
    "    # Get ages\n",
    "    filepath <- file.path('isoplotr_oldsamples_ages',f)\n",
    "    ages <- read.data(filepath,method='other',format='radial',ierr=1)\n",
    "    \n",
    "    # Make and save radial plot\n",
    "    plot_name <- sub('\\\\.csv$','.pdf',f)\n",
    "    plot_path <- file.path('MLA_rel_age_filter',plot_name)\n",
    "    \n",
    "    pdf(plot_path)\n",
    "    radialplot(ages,k='min')\n",
    "    dev.off()\n",
    "    \n",
    "    # Get minimum age from radial plot in separate table\n",
    "    mla <- peakfit(ages,k='min')\n",
    "    mla_path <- file.path('MLA_rel_age_filter',sub('\\\\.csv$','_mla.csv',f))\n",
    "    write.csv(mla$peaks,file=mla_path)\n",
    "}"
   ]
  },
  {
   "cell_type": "code",
   "execution_count": null,
   "metadata": {},
   "outputs": [],
   "source": [
    "# Get MDS file and do MDS analysis\n",
    "f <- 'mds_rel_age_filter.csv'\n",
    "\n",
    "dz <- read.data(f,method='detritals')\n",
    "plot_path <- file.path('mds_plot.pdf')\n",
    "\n",
    "pdf(plot_path)\n",
    "mds(dz,nnlines=FALSE,pch=21,cex=3)\n",
    "dev.off()\n"
   ]
  },
  {
   "cell_type": "code",
   "execution_count": null,
   "metadata": {},
   "outputs": [],
   "source": [
    "# Get isotopic ratios for YGC and YSG ages from relative age isoplot directory (for concordia plots)\n",
    "filenames <- dir('isoplotr_rel_age_wetherill',pattern='*.csv')\n",
    "print(filenames)"
   ]
  },
  {
   "cell_type": "code",
   "execution_count": null,
   "metadata": {},
   "outputs": [],
   "source": [
    "# Create concordia plot\n",
    "for (f in filenames) {\n",
    "    \n",
    "    # Calculate ages from isotopic data\n",
    "    filepath <- file.path('isoplotr_rel_age_wetherill',f)\n",
    "    \n",
    "    # ierr 4 indicates errors are 2s %\n",
    "    UPb <- read.data(filepath,method='U-Pb',format=1,ierr=4)\n",
    "    \n",
    "    # Make and save concordia plot\n",
    "    plot_name <- sub('\\\\.csv$','.pdf',f)\n",
    "    plot_path <- file.path('isoplotr_rel_age_wetherill',plot_name)\n",
    "    \n",
    "    pdf(plot_path)\n",
    "    concordia(UPb,oerr=2)\n",
    "    dev.off()\n",
    "}"
   ]
  },
  {
   "cell_type": "code",
   "execution_count": null,
   "metadata": {},
   "outputs": [],
   "source": []
  }
 ],
 "metadata": {
  "kernelspec": {
   "display_name": "R",
   "language": "R",
   "name": "ir"
  },
  "language_info": {
   "codemirror_mode": "r",
   "file_extension": ".r",
   "mimetype": "text/x-r-source",
   "name": "R",
   "pygments_lexer": "r",
   "version": "4.1.3"
  }
 },
 "nbformat": 4,
 "nbformat_minor": 4
}
