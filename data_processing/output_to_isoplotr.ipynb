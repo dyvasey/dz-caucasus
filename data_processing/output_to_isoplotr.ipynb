{
 "cells": [
  {
   "cell_type": "code",
   "execution_count": null,
   "metadata": {},
   "outputs": [],
   "source": [
    "import os\n",
    "import pandas as pd\n",
    "\n",
    "from geoscripts.dz import dz"
   ]
  },
  {
   "cell_type": "code",
   "execution_count": null,
   "metadata": {},
   "outputs": [],
   "source": [
    "directory = 'proc_no_filter'\n",
    "isoplotr_dir = 'isoplotr_raw_no_filter'\n",
    "smps = []\n",
    "\n",
    "os.makedirs(isoplotr_dir,exist_ok=True)\n",
    "\n",
    "nickname_dic = {'CT15076':'KZ1','CT15082':'KZ2','CT15092':'KZ3','CT15127':'KZ4','CT15099':'KZ5','CT15113':'KZ6','AB0913':'RU1','CT130918-2A':'SV1',\n",
    "'100211-9A':'SV2','CT130918-9A':'SV3','CT130919-5A':'SV4','100411-5':'SV5','CT130919-8A':'SV6','AB0926':'SV7','100211-1A':'SV8'}\n",
    "\n",
    "for file in os.listdir(directory):\n",
    "    filepath = os.path.join(directory,file)\n",
    "    data = pd.read_csv(filepath,index_col=0)\n",
    "    \n",
    "    name = file[:-4]\n",
    "    \n",
    "    smp = dz.DZSample(name=name,agedata=data)\n",
    "    smp.nickname = nickname_dic[smp.name]\n",
    "\n",
    "    print(smp.name,smp.nickname)\n",
    "\n",
    "    # Set up new df in IsoplotR format (1se abs)\n",
    "    working_table = pd.DataFrame([],columns=['Pb207U235','errPb207U235','Pb206U238','errPb206U238'])\n",
    "   \n",
    "    # Flip ratios\n",
    "    working_table['Pb207U235'] = smp.agedata['207Pb/235U']\n",
    "    working_table['Pb206U238'] = smp.agedata['206Pb/238U']\n",
    "\n",
    "    # Convert 2s percentage errors to 1s absolute errors\n",
    "    working_table['errPb207U235'] =  working_table['Pb207U235']*(smp.agedata['207Pb/235U_err']/100)/2\n",
    "    working_table['errPb206U238'] = working_table['Pb206U238']*(smp.agedata['206Pb/238U_err']/100)/2\n",
    "\n",
    "    filename = smp.name + '.csv'\n",
    "\n",
    "    output_dir = os.path.join(isoplotr_dir,filename)\n",
    "\n",
    "    working_table.to_csv(output_dir,index=None)\n",
    "\n",
    "    smp.save(path='dz_no_filter/')"
   ]
  },
  {
   "cell_type": "code",
   "execution_count": null,
   "metadata": {},
   "outputs": [],
   "source": [
    "directory = 'proc_rel_age_filter'\n",
    "isoplotr_dir = 'isoplotr_rel_age_filter'\n",
    "\n",
    "os.makedirs(isoplotr_dir,exist_ok=True)\n",
    "\n",
    "smps_new = dz.load_all('dz_rel_age_filter/')\n",
    "\n",
    "for smp in smps:\n",
    "    output = pd.DataFrame([],columns=['tbest','err'])\n",
    "    output['tbest'] = smp.bestage\n",
    "    \n",
    "    # Convert 2s errors to 1s\n",
    "    output['err'] = smp.besterror/2\n",
    "\n",
    "    output.to_csv(isoplotr_dir + '/' + smp.name + '.csv',index=False)"
   ]
  }
 ],
 "metadata": {
  "kernelspec": {
   "display_name": "local-geoscripts",
   "language": "python",
   "name": "python3"
  },
  "language_info": {
   "codemirror_mode": {
    "name": "ipython",
    "version": 3
   },
   "file_extension": ".py",
   "mimetype": "text/x-python",
   "name": "python",
   "nbconvert_exporter": "python",
   "pygments_lexer": "ipython3",
   "version": "3.10.6"
  },
  "orig_nbformat": 4
 },
 "nbformat": 4,
 "nbformat_minor": 2
}
