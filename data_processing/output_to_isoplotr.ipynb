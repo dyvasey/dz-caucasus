{
 "cells": [
  {
   "cell_type": "code",
   "execution_count": 5,
   "metadata": {},
   "outputs": [],
   "source": [
    "import os\n",
    "import pandas as pd\n",
    "\n",
    "from geoscripts.dz import dz"
   ]
  },
  {
   "cell_type": "code",
   "execution_count": 6,
   "metadata": {},
   "outputs": [
    {
     "name": "stdout",
     "output_type": "stream",
     "text": [
      "100211-1A SV8\n",
      "100211-9A SV2\n",
      "100411-5 SV5\n",
      "AB0913 RU1\n",
      "AB0926 SV7\n",
      "CT130918-2A SV1\n",
      "CT130918-9A SV3\n",
      "CT130919-5A SV4\n",
      "CT130919-8A SV6\n",
      "CT15076 KZ1\n",
      "CT15082 KZ2\n",
      "CT15092 KZ3\n",
      "CT15099 KZ5\n",
      "CT15113 KZ6\n",
      "CT15127 KZ4\n"
     ]
    }
   ],
   "source": [
    "directory = 'proc_no_filter'\n",
    "isoplotr_dir = 'isoplotr_raw'\n",
    "smps = []\n",
    "\n",
    "os.makedirs(isoplotr_dir,exist_ok=True)\n",
    "\n",
    "nickname_dic = {'CT15076':'KZ1','CT15082':'KZ2','CT15092':'KZ3','CT15127':'KZ4','CT15099':'KZ5','CT15113':'KZ6','AB0913':'RU1','CT130918-2A':'SV1',\n",
    "'100211-9A':'SV2','CT130918-9A':'SV3','CT130919-5A':'SV4','100411-5':'SV5','CT130919-8A':'SV6','AB0926':'SV7','100211-1A':'SV8'}\n",
    "\n",
    "for file in os.listdir(directory):\n",
    "    filepath = os.path.join(directory,file)\n",
    "    data = pd.read_csv(filepath,index_col=0)\n",
    "    \n",
    "    name = file[:-4]\n",
    "    \n",
    "    smp = dz.DZSample(name=name,agedata=data)\n",
    "    smp.nickname = nickname_dic[smp.name]\n",
    "\n",
    "    print(smp.name,smp.nickname)\n",
    "\n",
    "    # Set up new df in IsoplotR format (flipped ratios and 1se abs)\n",
    "    working_table = pd.DataFrame([],columns=['U238Pb206','errU238Pb206','Pb207Pb206','errPb207Pb206'])\n",
    "   \n",
    "    # Flip ratios\n",
    "    working_table['U238Pb206'] = 1/smp.agedata['206Pb/238U']\n",
    "    working_table['Pb207Pb206'] = 1/smp.agedata['206Pb/207Pb']\n",
    "\n",
    "    # Convert 2s percentage errors to 1s absolute errors\n",
    "    working_table['errU238Pb206'] =  working_table['U238Pb206']*(smp.agedata['206Pb/238U_err']/100)/2\n",
    "    working_table['errPb207Pb206'] = working_table['Pb207Pb206']*(smp.agedata['206Pb/207Pb_err']/100)/2\n",
    "\n",
    "    filename = smp.name + '.csv'\n",
    "\n",
    "    output_dir = os.path.join(isoplotr_dir,filename)\n",
    "\n",
    "    working_table.to_csv(output_dir,index=None)\n",
    "\n",
    "    smp.save()"
   ]
  }
 ],
 "metadata": {
  "kernelspec": {
   "display_name": "local-geoscripts",
   "language": "python",
   "name": "python3"
  },
  "language_info": {
   "codemirror_mode": {
    "name": "ipython",
    "version": 3
   },
   "file_extension": ".py",
   "mimetype": "text/x-python",
   "name": "python",
   "nbconvert_exporter": "python",
   "pygments_lexer": "ipython3",
   "version": "3.10.6"
  },
  "orig_nbformat": 4
 },
 "nbformat": 4,
 "nbformat_minor": 2
}
