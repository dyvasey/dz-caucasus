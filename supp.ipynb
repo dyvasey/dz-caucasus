{
 "cells": [
  {
   "cell_type": "markdown",
   "metadata": {},
   "source": [
    "### Supplementary Figures ###\n",
    "This notebooks contains code used to make supplementary figures for the manuscript using the detrital zircon data."
   ]
  },
  {
   "cell_type": "code",
   "execution_count": null,
   "metadata": {},
   "outputs": [],
   "source": [
    "# Imports\n",
    "import os\n",
    "import pandas as pd\n",
    "import numpy as np\n",
    "import matplotlib.pyplot as plt\n",
    "\n",
    "from matplotlib import rc\n",
    "rc(\"pdf\", fonttype=42)\n",
    "\n",
    "from geoscripts.dz import dz\n"
   ]
  },
  {
   "cell_type": "code",
   "execution_count": null,
   "metadata": {},
   "outputs": [],
   "source": [
    "# Load samples using geoscripts\n",
    "\n",
    "samples_published = dz.load_all()\n",
    "\n",
    "samples_new = dz.load_all('UCD22/')\n",
    "\n",
    "samples = samples_published + samples_new"
   ]
  },
  {
   "cell_type": "code",
   "execution_count": null,
   "metadata": {},
   "outputs": [],
   "source": [
    "# Add shorthand name for newly-published samples\n",
    "\n",
    "nickname_dic = {'CT15076':'KZ1','CT15082':'KZ2','CT15092':'KZ3','CT15099':'KZ4','CT15127':'KZ5','CT15113':'KZ6','AB0913':'RU1','CT130918-2A':'SV1',\n",
    "'100211-9A':'SV2','CT130918-9A':'SV3','CT130919-5A':'SV4','100411-5':'SV5','CT130919-8A':'SV6','AB0926':'SV7','100211-1A':'SV8'}\n",
    "\n",
    "for smp in samples:\n",
    "    if smp.name in nickname_dic:\n",
    "        smp.original = smp.name\n",
    "        smp.name = nickname_dic[smp.name]\n",
    "\n",
    "        # Purge numbers <1 that shouldn't be in the age column\n",
    "        smp.bestage = smp.bestage[smp.bestage>1]\n",
    "\n",
    "        print(smp.name,smp.original)"
   ]
  },
  {
   "cell_type": "code",
   "execution_count": null,
   "metadata": {},
   "outputs": [],
   "source": [
    "# Organize new samples into blocks\n",
    "\n",
    "kz_samples = [smp for smp in samples if 'KZ' in smp.name]\n",
    "kz_samples.sort(key=lambda x: x.name, reverse=True)\n",
    "sv_samples = [smp for smp in samples if 'SV' in smp.name]\n",
    "sv_samples.sort(key=lambda x: x.name, reverse=True)\n",
    "\n",
    "ru = [smp for smp in samples if 'RU' in smp.name]"
   ]
  },
  {
   "cell_type": "code",
   "execution_count": null,
   "metadata": {},
   "outputs": [],
   "source": [
    "# Plot MDA ages for Svaneti samples\n",
    "fig, axs = plt.subplots(4,2,dpi=300,figsize=(6.5,9))\n",
    "\n",
    "for k,smp in enumerate(sv_samples):\n",
    "    smp.plot_mda(axs.flat[k],syst_error=True)\n",
    "\n",
    "plt.tight_layout()\n",
    "\n",
    "fig.savefig('sv_mda_plots.pdf')"
   ]
  },
  {
   "cell_type": "code",
   "execution_count": null,
   "metadata": {},
   "outputs": [],
   "source": [
    "# Plot MDA ages for Kazbegi samples\n",
    "fig, axs = plt.subplots(4,2,dpi=300,figsize=(6.5,9))\n",
    "\n",
    "for k,smp in enumerate(kz_samples+ru):\n",
    "    smp.plot_mda(axs.flat[k],syst_error=True)\n",
    "\n",
    "axs.flat[7].remove()\n",
    "plt.tight_layout()\n",
    "\n",
    "fig.savefig('kz_mda_plots.pdf')"
   ]
  },
  {
   "cell_type": "code",
   "execution_count": null,
   "metadata": {},
   "outputs": [],
   "source": [
    "# Redo MDAs for previously published samples from Cowgill16 and Vasey20\n",
    "\n",
    "syst_238 = {'NW-GC':0.9,'N1':1.0,'N2':0.8,'N3':0.8,'N5':0.9}\n",
    "\n",
    "# Need to change discordance filter age to 600?\n",
    "for smp in samples:\n",
    "    if smp.name in ['NW-GC','N1','N2','N3','N5']:\n",
    "        smp.calc_bestage(col_238='238/206 U-Pb Age',col_207='206/207 Pb Age',err_238='238 Error',err_207='206 Error',use_err=True,err_lev='1sig',\n",
    "        disc_cutoff=20,disc_age_cutoff=600)\n",
    "        smp.convert_1sigto2sig()\n",
    "        smp.syst_238 = syst_238[smp.name]\n",
    "        smp.calc_mda(systematic=True)\n",
    "        age_errors = pd.concat([smp.bestage,smp.besterror],axis=1).dropna(how='any')\n",
    "        ages_sorted = age_errors.sort_values(by=['Best Age'],ignore_index=True)\n",
    "        smp.ysg = ages_sorted.iloc[0,0]\n",
    "        smp.ysg_err = ages_sorted.iloc[0,1]"
   ]
  },
  {
   "cell_type": "code",
   "execution_count": null,
   "metadata": {},
   "outputs": [],
   "source": [
    "# Plot MDAs for Cowgill16 and Vasey20 samples and save as a figure\n",
    "fig, axs = plt.subplots(3,2,dpi=300,figsize=(6.5,9*0.75))\n",
    "\n",
    "old_smps = [smp for smp in samples if smp.name in ['NW-GC','N1','N2','N3','N5']]\n",
    "\n",
    "for k,smp in enumerate(old_smps):\n",
    "    smp.plot_mda(axs.flat[k],syst_error=True)\n",
    "\n",
    "axs.flat[5].remove()\n",
    "plt.tight_layout()\n",
    "\n",
    "fig.savefig('old_mda_plots.pdf')"
   ]
  },
  {
   "cell_type": "code",
   "execution_count": null,
   "metadata": {},
   "outputs": [],
   "source": [
    "# Define plotting function for column of DZ analyses\n",
    "\n",
    "def plot_dz_columns(smps,save=False,filename=None,mda=True,plot_mapped=False,jcarb=False,mpeaks=False,**kwargs):\n",
    "    \n",
    "    # Set up axes, title, limits, and plot KDE\n",
    "    \n",
    "    nplots = len(smps)\n",
    "    height = nplots*1.5\n",
    "    \n",
    "    # If only 1 samples input\n",
    "    if len(smps)==1:\n",
    "        fig,axs = plt.subplots(nplots,dpi=300,figsize=(7.5,height))\n",
    "        smp = smps[0]\n",
    "        smp.kde(ax=axs,**kwargs)\n",
    "        axs.set_title(smp.name)\n",
    "        axs.set_xlim(50,4000)\n",
    "\n",
    "        # Add MDA information to plot\n",
    "        if mda:\n",
    "            mda_text = 'MDA: ' + str(round(smp.mda,1)) + ' ± ' + str(round(smp.mda_err,1))\n",
    "            axs.text(0.02,0.3,mda_text,transform=axs.transAxes)\n",
    "            ysg_text = 'YSG: ' + str(round(smp.ysg,1)) + ' ± ' + str(round(smp.ysg_err,1))\n",
    "            axs.text(0.02,0.1,ysg_text,transform=axs.transAxes)\n",
    "    \n",
    "    # If multiple samples input\n",
    "    else:\n",
    "        fig,axs = plt.subplots(nplots,dpi=300,figsize=(7.5,height),sharex=True)\n",
    "        for k,smp in enumerate(smps):\n",
    "            smp.kde(ax=axs[k],**kwargs)\n",
    "            axs[k].set_title(smp.name)\n",
    "            axs[k].set_xlim(50,4000)\n",
    "            \n",
    "            # Add MDA information to plot\n",
    "            if mda:\n",
    "                mda_text = 'MDA: ' + str(round(smp.mda,1)) + ' ± ' + str(round(smp.mda_err,1))\n",
    "                axs[k].text(0.02,0.3,mda_text,transform=axs[k].transAxes)\n",
    "                ysg_text = 'YSG: ' + str(round(smp.ysg,1)) + ' ± ' + str(round(smp.ysg_err,1))\n",
    "                axs[k].text(0.02,0.1,ysg_text,transform=axs[k].transAxes)\n",
    "\n",
    "            # Add mapped depositional age as a gray bar\n",
    "            if plot_mapped:\n",
    "                trans = axs[k].get_xaxis_transform()\n",
    "                axs[k].plot([smp.mapped_age[0],smp.mapped_age[1]],[0.02,0.02],color='gray',linewidth=2,clip_on=False,transform=trans)\n",
    "                axs[k].set_ylim(bottom=0)\n",
    "\n",
    "            # Add Early Jurassic and Late Carboniferous boxes\n",
    "            if jcarb:\n",
    "                ejmin = 174.1\n",
    "                ejmax = 201.3\n",
    "\n",
    "                lcarbmin = 298.9\n",
    "                lcarbmax = 323.2\n",
    "\n",
    "                axs[k].axvline(ejmax,linestyle='--',color='navy',zorder=0)\n",
    "                axs[k].axvline(ejmin,linestyle='--',color='navy',zorder=0)\n",
    "                axs[k].axvline(lcarbmax,linestyle='--',color='purple',zorder=0)\n",
    "                axs[k].axvline(lcarbmin,linestyle='--',color='purple',zorder=0)\n",
    "            \n",
    "            # Add lines for major peaks\n",
    "            if mpeaks:\n",
    "                peaks = [170,240,300,450,2000,2600]\n",
    "                for peak in peaks:\n",
    "                    axs[k].axvline(peak,linestyle='--',color='darkorange',zorder=0)\n",
    "                \n",
    "    plt.tight_layout()\n",
    "    \n",
    "    # Save the figure as a file\n",
    "    if save == True:\n",
    "        fig.savefig(filename)\n",
    "    \n",
    "    return"
   ]
  },
  {
   "cell_type": "code",
   "execution_count": null,
   "metadata": {},
   "outputs": [],
   "source": [
    "# Plot individual KDEs for additional samples used in Figure 7 (composite KDEs over time)\n",
    "\n",
    "dizi_names = ['Khelra','WGC-2']\n",
    "idliani_names = ['Khopuri']\n",
    "jvari_names = ['SW-GC','WGC-3','CT130924-9A']\n",
    "gvpas_names = ['Tskhradzmula','CGC-1']\n",
    "ana_names = ['CGC-2']\n",
    "\n",
    "lc_names = ['LC-1','LC-2','LC-3','TC-1','Tovuz']\n",
    "\n",
    "dizi_smps = [smp for smp in samples if smp.name in dizi_names]\n",
    "idliani_smps = [smp for smp in samples if smp.name in idliani_names]\n",
    "jvari_smps = [smp for smp in samples if smp.name in jvari_names]\n",
    "gvpas_smps = [smp for smp in samples if smp.name in gvpas_names]\n",
    "ana_smps = [smp for smp in samples if smp.name in ana_names]\n",
    "lc_smps = [smp for smp in samples if smp.name in lc_names]\n",
    "\n",
    "for smp in lc_smps:\n",
    "    smp.bestage = smp.bestage[smp.bestage>65]\n",
    "\n",
    "block = dizi_smps + idliani_smps + jvari_smps + gvpas_smps + ana_smps + lc_smps\n",
    "\n",
    "ticks = [50,100,150,200,300,500,1000,2000,3000]\n",
    "plot_dz_columns(block,mda=False,bw_adjust=0.2,ticks=ticks,save=True,filename='supp_kdes.pdf')"
   ]
  }
 ],
 "metadata": {
  "kernelspec": {
   "display_name": "Python 3.10.6 ('local-geoscripts')",
   "language": "python",
   "name": "python3"
  },
  "language_info": {
   "codemirror_mode": {
    "name": "ipython",
    "version": 3
   },
   "file_extension": ".py",
   "mimetype": "text/x-python",
   "name": "python",
   "nbconvert_exporter": "python",
   "pygments_lexer": "ipython3",
   "version": "3.10.6"
  },
  "orig_nbformat": 4,
  "vscode": {
   "interpreter": {
    "hash": "f0fecc7f93da509b90f142515abda6685b72452058a054a4b9403d2e70ca67c4"
   }
  }
 },
 "nbformat": 4,
 "nbformat_minor": 2
}
