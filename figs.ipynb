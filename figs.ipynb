{
 "cells": [
  {
   "cell_type": "code",
   "execution_count": null,
   "metadata": {},
   "outputs": [],
   "source": [
    "# Imports - run first\n",
    "import os\n",
    "import pandas as pd\n",
    "import numpy as np\n",
    "import matplotlib.pyplot as plt\n",
    "\n",
    "from matplotlib import rc\n",
    "rc(\"pdf\", fonttype=42)\n",
    "\n",
    "from geoscripts.dz import dz\n",
    "\n",
    "samples_published = dz.load_all()\n",
    "\n",
    "samples_new = dz.load_all('UCD22/')\n",
    "\n",
    "\n",
    "samples = samples_published + samples_new\n",
    "\n",
    "def plot_fault_block(smps,save=False,filename=None,mda=True,plot_mapped=True,**kwargs):\n",
    "    \n",
    "    nplots = len(smps)\n",
    "    height = nplots*1.5\n",
    "    \n",
    "    \n",
    "    if len(smps)==1:\n",
    "        fig,axs = plt.subplots(nplots,dpi=300,figsize=(7.5,height))\n",
    "        smp = smps[0]\n",
    "        smp.kde(ax=axs,**kwargs)\n",
    "        axs.set_title(smp.name)\n",
    "        axs.set_xlim(50,4000)\n",
    "\n",
    "        if mda:\n",
    "            mda_text = 'MDA: ' + str(round(smp.mda,1)) + ' ± ' + str(round(smp.mda_err,1))\n",
    "            axs.text(0.02,0.3,mda_text,transform=axs.transAxes)\n",
    "            ysg_text = 'YSG: ' + str(round(smp.ysg,1)) + ' ± ' + str(round(smp.ysg_err,1))\n",
    "            axs.text(0.02,0.1,ysg_text,transform=axs.transAxes)\n",
    "    \n",
    "    else:\n",
    "        fig,axs = plt.subplots(nplots,dpi=300,figsize=(7.5,height),sharex=True)\n",
    "        for k,smp in enumerate(smps):\n",
    "            smp.kde(ax=axs[k],**kwargs)\n",
    "            axs[k].set_title(smp.name)\n",
    "            axs[k].set_xlim(50,4000)\n",
    "            \n",
    "            if mda:\n",
    "                mda_text = 'MDA: ' + str(round(smp.mda,1)) + ' ± ' + str(round(smp.mda_err,1))\n",
    "                axs[k].text(0.02,0.3,mda_text,transform=axs[k].transAxes)\n",
    "                ysg_text = 'YSG: ' + str(round(smp.ysg,1)) + ' ± ' + str(round(smp.ysg_err,1))\n",
    "                axs[k].text(0.02,0.1,ysg_text,transform=axs[k].transAxes)\n",
    "\n",
    "            if plot_mapped:\n",
    "                axs[k].plot([smp.mapped_age[0],smp.mapped_age[1]],1,color='gray',linewidth=2)\n",
    "\n",
    "    plt.tight_layout()\n",
    "    \n",
    "    if save == True:\n",
    "        fig.savefig(filename)\n",
    "    \n",
    "    return(smps)"
   ]
  },
  {
   "cell_type": "code",
   "execution_count": null,
   "metadata": {},
   "outputs": [],
   "source": [
    "#Assign mapped ages\n",
    "map_data = pd.read_csv('map_ages.csv')\n",
    "age_cols = ['50K Min','50K Max','200K Min','200K Max','500k Min','500K Max','N Min','N Max']\n",
    "ages = map_data[age_cols]\n",
    "ages.index = map_data['Sample Number']\n",
    "\n",
    "for smp in samples:\n",
    "    if smp.name in ages.index:\n",
    "        minmap = np.min(ages.loc[smp.name,:])\n",
    "        maxmap = np.max(ages.loc[smp.name,:])\n",
    "        smp.mapped_age = (minmap,maxmap)\n",
    "        print(smp.name,smp.mapped_age)\n",
    "\n"
   ]
  },
  {
   "cell_type": "code",
   "execution_count": null,
   "metadata": {},
   "outputs": [],
   "source": [
    "nickname_dic = {'CT15076':'KZ1','CT15082':'KZ2','CT15092':'KZ3','CT15099':'KZ4','CT15127':'KZ5','CT15113':'KZ6','AB0913':'RU1','CT130918-2A':'SV1',\n",
    "'100211-9A':'SV2','CT130918-9A':'SV3','CT130919-5A':'SV4','100411-5':'SV5','CT130919-8A':'SV6','AB0926':'SV7','100211-1A':'SV8'}\n",
    "\n",
    "for smp in samples:\n",
    "    if smp.name in nickname_dic:\n",
    "        smp.original = smp.name\n",
    "        smp.name = nickname_dic[smp.name]\n",
    "        print(smp.name,smp.original)\n",
    "\n"
   ]
  },
  {
   "cell_type": "code",
   "execution_count": null,
   "metadata": {},
   "outputs": [],
   "source": [
    "# Block out and sort\n",
    "\n",
    "kz_samples = [smp for smp in samples if 'KZ' in smp.name]\n",
    "kz_samples.sort(key=lambda x: x.name, reverse=True)\n",
    "sv_samples = [smp for smp in samples if 'SV' in smp.name]\n",
    "sv_samples.sort(key=lambda x: x.name, reverse=True)"
   ]
  },
  {
   "cell_type": "code",
   "execution_count": null,
   "metadata": {},
   "outputs": [],
   "source": [
    "# Color Svaneti samples\n",
    "for smp in sv_samples:\n",
    "    if smp.name=='SV1':\n",
    "        smp.color='red'\n",
    "    elif smp.name in ['SV2','SV3']:\n",
    "        smp.color='purple'\n",
    "    elif smp.name in ['SV7']:\n",
    "        smp.color='skyblue'\n",
    "\n",
    "# Color Kazbegi samples\n",
    "for smp in kz_samples:\n",
    "    if smp.name=='KZ1':\n",
    "        smp.color='skyblue'"
   ]
  },
  {
   "cell_type": "code",
   "execution_count": null,
   "metadata": {},
   "outputs": [],
   "source": [
    "# Get single-grain MDAs\n",
    "\n",
    "for smp in sv_samples:\n",
    "    age_errors = pd.concat([smp.bestage,smp.besterror],axis=1).dropna(how='any')\n",
    "    ages_sorted = age_errors.sort_values(by=['Best Age'],ignore_index=True)\n",
    "    smp.ysg = ages_sorted.iloc[0,0]\n",
    "    smp.ysg_err = ages_sorted.iloc[0,1]\n",
    "\n",
    "for smp in kz_samples:\n",
    "    age_errors = pd.concat([smp.bestage,smp.besterror],axis=1).dropna(how='any')\n",
    "    ages_sorted = age_errors.sort_values(by=['Best Age'],ignore_index=True)\n",
    "    smp.ysg = ages_sorted.iloc[0,0]\n",
    "    smp.ysg_err = ages_sorted.iloc[0,1]\n",
    "\n",
    "\n"
   ]
  },
  {
   "cell_type": "code",
   "execution_count": null,
   "metadata": {},
   "outputs": [],
   "source": [
    "ticks = [50,100,150,200,300,500,1000,2000,3000]\n",
    "\n",
    "# Plot KZ\n",
    "plot_fault_block(kz_samples,save=True,filename='kz.pdf',method=None,bw_adjust=0.2,ticks=ticks)"
   ]
  },
  {
   "cell_type": "code",
   "execution_count": null,
   "metadata": {},
   "outputs": [],
   "source": [
    "# Plot SV\n",
    "plot_fault_block(sv_samples,save=True,filename='sv.pdf',method=None,bw_adjust=0.2,ticks=ticks)"
   ]
  },
  {
   "cell_type": "code",
   "execution_count": null,
   "metadata": {},
   "outputs": [],
   "source": [
    "# Plot RU\n",
    "ru = [smp for smp in samples if 'RU' in smp.name]\n",
    "\n",
    "for smp in ru:\n",
    "    age_errors = pd.concat([smp.bestage,smp.besterror],axis=1).dropna(how='any')    \n",
    "    ages_sorted = age_errors.sort_values(by=['Best Age'],ignore_index=True)\n",
    "    smp.ysg = ages_sorted.iloc[0,0]\n",
    "    smp.ysg_err = ages_sorted.iloc[0,1]\n",
    "\n",
    "plot_fault_block([sv_samples[0],ru[0]],save=True,filename='ru.pdf',method=None,bw_adjust=0.2,ticks=ticks)"
   ]
  },
  {
   "cell_type": "code",
   "execution_count": null,
   "metadata": {},
   "outputs": [],
   "source": [
    "# Pz samples\n",
    "pz1 = [smp for smp in sv_samples if smp.name=='SV1']\n",
    "pz2 = [smp for smp in samples_published if smp.name in ['N1','N2','N3']]\n",
    "pz = pz1+pz2\n",
    "\n",
    "pz.sort(key=lambda x: np.min(x.bestage))\n",
    "\n",
    "for smp in pz:\n",
    "    smp.color='red'\n",
    "plot_fault_block(pz,save=True,filename='pz.pdf',method=None,mda=False,bw_adjust=0.2,ticks=ticks)"
   ]
  },
  {
   "cell_type": "code",
   "execution_count": null,
   "metadata": {},
   "outputs": [],
   "source": [
    "# P-Tr samples\n",
    "tr1 = [smp for smp in sv_samples if smp.name in ['SV2','SV3']]\n",
    "tr2 = [smp for smp in samples_published if smp.name in ['N5','NW-GC']]\n",
    "tr = tr1+tr2\n",
    "\n",
    "tr.sort(key=lambda x: np.min(x.bestage))\n",
    "\n",
    "for smp in tr:\n",
    "    smp.color='purple'\n",
    "plot_fault_block(tr,save=True,filename='tr.pdf',method=None,mda=False,bw_adjust=0.2,ticks=ticks)"
   ]
  },
  {
   "cell_type": "code",
   "execution_count": null,
   "metadata": {},
   "outputs": [],
   "source": [
    "import matplotlib\n",
    "\n",
    "reds = matplotlib.cm.get_cmap('Reds')\n",
    "greens = matplotlib.cm.get_cmap('Greens')\n",
    "\n",
    "\n",
    "dizi_names = ['NW-GC','N5','Khelra','WGC-2','SV2','SV8','SV7']\n",
    "idliani_names = ['Khopuri','SV3','SV4']\n",
    "jvari_names = ['SW-GC','WGC-3','SV6','SV5']\n",
    "gvpas_names = ['K3','KZ1','KZ2','Tskhradzmula','CGC-1']\n",
    "ana_names = ['KZ4','KZ3','KZ6','KZ5','CGC-2']\n",
    "\n",
    "lc_names = ['LC-1','LC-2','LC-3','TC-1','Tovuz']\n",
    "\n",
    "dizi_smps = [smp for smp in samples if smp.name in dizi_names]\n",
    "idliani_smps = [smp for smp in samples if smp.name in idliani_names]\n",
    "jvari_smps = [smp for smp in samples if smp.name in jvari_names]\n",
    "gvpas_smps = [smp for smp in samples if smp.name in gvpas_names]\n",
    "ana_smps = [smp for smp in samples if smp.name in ana_names]\n",
    "lc_smps = [smp for smp in samples if smp.name in lc_names]\n",
    "\n",
    "for smp in lc_smps:\n",
    "    smp.color='green'\n",
    "    smp.bestage = smp.bestage[smp.bestage>65]\n",
    "\n",
    "lc_smps.sort(key=lambda x: x.name)\n",
    "\n",
    "dizi = dz.composite(dizi_smps,name='Dizi Block')\n",
    "idliani = dz.composite(idliani_smps,name='Idliani Block')\n",
    "jvari = dz.composite(jvari_smps,name='Jvari Block')\n",
    "gvpas = dz.composite(gvpas_smps,name='Gveleti-Pasanauri Block')\n",
    "ana = dz.composite(ana_smps,name='Ananuri Block')\n",
    "lc = dz.composite(lc_smps,name='Lesser Caucasus')\n",
    "\n",
    "color_dict = {dizi:reds(0.9),idliani:reds(0.75),gvpas:reds(0.5),ana:reds(0.25),jvari:greens(0.5),lc:greens(0.9)}\n",
    "\n",
    "blocks1 = [dizi,idliani,jvari]\n",
    "blocks2 = [gvpas,ana,lc]\n",
    "allblocks = blocks1+blocks2\n",
    "\n",
    "for block in allblocks:\n",
    "    block.color=color_dict[block]\n",
    "\n",
    "plot_fault_block(blocks1,save=True,filename='sv_blocks.pdf',method=None,mda=False,bw_adjust=0.2,ticks=ticks)\n",
    "plot_fault_block(blocks2,save=True,filename='kz_blocks.pdf',method=None,mda=False,bw_adjust=0.2,ticks=ticks)\n",
    "plot_fault_block(lc_smps,save=True,filename='lc.pdf',method=None,mda=False,bw_adjust=0.2,ticks=ticks)\n"
   ]
  },
  {
   "cell_type": "code",
   "execution_count": null,
   "metadata": {},
   "outputs": [],
   "source": [
    "fig,ax = plt.subplots(1,dpi=300)\n",
    "for smp in allblocks:\n",
    "    smp.cad(ax=ax,color=color_dict[smp])\n",
    "\n",
    "plt.legend()\n",
    "\n",
    "fig.savefig('cad.pdf')\n",
    "    "
   ]
  },
  {
   "cell_type": "code",
   "execution_count": null,
   "metadata": {},
   "outputs": [],
   "source": [
    "devcar = dz.composite(pz,name='Devonian-Carboniferous',color='red')\n",
    "ptr = dz.composite(tr,name='Permian-Triassic',color='purple')\n",
    "\n",
    "j_smps = [smp for smp in samples_new if smp.name in ['KZ1','KZ2','SV4','SV5','SV6','SV7','NW-GC','K3']]\n",
    "j = dz.composite(j_smps,color='blue',name='Jurassic')\n",
    "\n",
    "k_smps = [smp for smp in samples_new if smp.name in ['SV8','KZ3','KZ4','KZ5','KZ6']]\n",
    "k = dz.composite(k_smps,color='forestgreen',name='Cretaceous')\n",
    "\n",
    "plot_fault_block([devcar,ptr,j,k],save=True,filename='age_dep.pdf',mda=False,method=None,bw_adjust=0.2)"
   ]
  },
  {
   "cell_type": "code",
   "execution_count": null,
   "metadata": {},
   "outputs": [],
   "source": [
    "# Look at old populations\n",
    "plot_fault_block(sv_samples,save=False,method=None,bw_adjust=0.2,ticks=np.arange(400,3000,200),\n",
    "log_scale=False)"
   ]
  },
  {
   "cell_type": "code",
   "execution_count": null,
   "metadata": {},
   "outputs": [],
   "source": [
    "plot_fault_block(kz_samples,save=False,method=None,bw_adjust=0.2,ticks=np.arange(400,3000,200),\n",
    "log_scale=False)"
   ]
  },
  {
   "cell_type": "code",
   "execution_count": null,
   "metadata": {},
   "outputs": [],
   "source": [
    "# Plot MDA vs. mapped age\n",
    "\n",
    "fig, ax = plt.subplots(1,dpi=300,figsize=(5,5))\n",
    "ax.set_aspect('equal')\n",
    "ax.plot(np.arange(0,1000,100),np.arange(0,1000,100),color='black')\n",
    "ax.set_xlabel('Maximum Mapped Age (Ma)')\n",
    "ax.set_ylabel('Detrital Zircon Youngest Single Grain (Ma)')\n",
    "ax.set_xlim(0,500)\n",
    "ax.set_ylim(0,500)\n",
    "\n",
    "ejmin = 174.1\n",
    "ejmax = 201.3\n",
    "\n",
    "lcarbmin = 298.9\n",
    "lcarbmax = 323.2\n",
    "\n",
    "ax.axhline(ejmax,linestyle='--',color='navy',zorder=0)\n",
    "ax.axhline(ejmin,linestyle='--',color='navy',zorder=0)\n",
    "ax.axhline(lcarbmax,linestyle='--',color='purple',zorder=0)\n",
    "ax.axhline(lcarbmin,linestyle='--',color='purple',zorder=0)\n",
    "\n",
    "for smp in tr2+pz2:\n",
    "    smp.ysg = np.min(smp.bestage)\n",
    "\n",
    "for smp in sv_samples+kz_samples+tr2+pz2+ru:\n",
    "    if smp.bestage.count()>15:\n",
    "        x = smp.mapped_age[1]\n",
    "        y = smp.ysg\n",
    "\n",
    "        ej_grains = smp.bestage[(smp.bestage<ejmax)&(smp.bestage>ejmin)]\n",
    "        lcarb_grains = smp.bestage[(smp.bestage<lcarbmax)&(smp.bestage>lcarbmin)]\n",
    "\n",
    "        if (ej_grains.count()>0)&(lcarb_grains.count()>0):\n",
    "            plot_color = 'navy'\n",
    "        elif lcarb_grains.count()>0:\n",
    "            plot_color='purple'\n",
    "        else:\n",
    "            plot_color='red'\n",
    "\n",
    "        ax.scatter(x,y,label=smp.name,color=plot_color)\n",
    "        ax.annotate(smp.name,(x,y))\n",
    "\n",
    "fig.savefig('mda_old_maxmapped.pdf')"
   ]
  },
  {
   "cell_type": "code",
   "execution_count": null,
   "metadata": {},
   "outputs": [],
   "source": [
    "# Plot MDA vs. mapped age\n",
    "\n",
    "fig, ax = plt.subplots(1,dpi=300,figsize=(5,5))\n",
    "ax.set_aspect('equal')\n",
    "ax.plot(np.arange(0,1000,100),np.arange(0,1000,100),color='black')\n",
    "ax.set_xlabel('Mapped Age (Ma)')\n",
    "ax.set_ylabel('Detrital Zircon\\nYoungest Single Grain Age (Ma)')\n",
    "ax.set_xlim(0,500)\n",
    "ax.set_ylim(0,500)\n",
    "\n",
    "ejmin = 174.1\n",
    "ejmax = 201.3\n",
    "ax.axvline(ejmin,linestyle='--',color='navy')\n",
    "ax.axvline(ejmax,linestyle='--',color='navy')\n",
    "\n",
    "for smp in tr2+pz2:\n",
    "    smp.ysg = np.min(smp.bestage)\n",
    "\n",
    "for smp in sv_samples+kz_samples+tr2+pz2+ru:\n",
    "    if smp.bestage.count()>15:\n",
    "        xmin = smp.mapped_age[0]\n",
    "        xmax = smp.mapped_age[1]\n",
    "        y = smp.ysg\n",
    "\n",
    "        ej_grains = smp.bestage[(smp.bestage<ejmax)*smp.bestage>ejmin]\n",
    "\n",
    "        if ej_grains.count()>0:\n",
    "            plot_color = 'navy'\n",
    "        else:\n",
    "            plot_color='gray'\n",
    "\n",
    "        ax.plot([xmin,xmax],[y,y],color=plot_color)\n",
    "        ax.annotate(smp.name,(xmax,y))\n",
    "\n",
    "        fig.savefig('mda_old.pdf')"
   ]
  },
  {
   "cell_type": "code",
   "execution_count": 19,
   "metadata": {},
   "outputs": [
    {
     "name": "stdout",
     "output_type": "stream",
     "text": [
      "4      525.364212\n",
      "9      512.450705\n",
      "16     512.917270\n",
      "25     454.053501\n",
      "27     375.907175\n",
      "31     520.021400\n",
      "33     518.723459\n",
      "34     520.214214\n",
      "35     564.274430\n",
      "39     262.827726\n",
      "44     531.677284\n",
      "46     200.271247\n",
      "66     542.044427\n",
      "73     530.044240\n",
      "75     486.057934\n",
      "80     521.847961\n",
      "82     500.293425\n",
      "87     535.769488\n",
      "90     394.206229\n",
      "92     550.386994\n",
      "96     536.630056\n",
      "97     314.569822\n",
      "101    548.664637\n",
      "104    526.548363\n",
      "105    212.234629\n",
      "107    527.461706\n",
      "109    496.149433\n",
      "110    526.851170\n",
      "112    536.974142\n",
      "121    497.192326\n",
      "131    583.649066\n",
      "134    583.728191\n",
      "141    460.522785\n",
      "149    408.135864\n",
      "154    529.198305\n",
      "159    525.340348\n",
      "173    552.824885\n",
      "Name: Best Age, dtype: float64\n"
     ]
    },
    {
     "data": {
      "text/plain": [
       "[<geoscripts.dz.dz.DZSample at 0x7f43ba3e43d0>]"
      ]
     },
     "execution_count": 19,
     "metadata": {},
     "output_type": "execute_result"
    },
    {
     "data": {
      "image/png": "[encoded data removed]",
      "text/plain": [
       "<Figure size 2250x450 with 1 Axes>"
      ]
     },
     "metadata": {
      "needs_background": "light"
     },
     "output_type": "display_data"
    }
   ],
   "source": [
    "ru_culled = ru[0].bestage[ru[0].bestage>200]\n",
    "\n",
    "print(ru_culled)\n",
    "\n",
    "ru[0].bestage = ru_culled\n",
    "\n",
    "plot_fault_block(ru)\n"
   ]
  },
  {
   "cell_type": "code",
   "execution_count": null,
   "metadata": {},
   "outputs": [],
   "source": []
  }
 ],
 "metadata": {
  "interpreter": {
   "hash": "b5b2de633d93431812b56ff993f268e83432b631dce07ed408c8ef1b77f23177"
  },
  "kernelspec": {
   "display_name": "Python 3.10.4 ('dz')",
   "language": "python",
   "name": "python3"
  },
  "language_info": {
   "codemirror_mode": {
    "name": "ipython",
    "version": 3
   },
   "file_extension": ".py",
   "mimetype": "text/x-python",
   "name": "python",
   "nbconvert_exporter": "python",
   "pygments_lexer": "ipython3",
   "version": "3.10.4"
  },
  "orig_nbformat": 4
 },
 "nbformat": 4,
 "nbformat_minor": 2
}
