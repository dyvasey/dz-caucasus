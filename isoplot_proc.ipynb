{
 "cells": [
  {
   "cell_type": "code",
   "execution_count": null,
   "id": "29db4945",
   "metadata": {},
   "outputs": [],
   "source": [
    "# Load IsoplotR\n",
    "library('IsoplotR')\n",
    "sessionInfo()"
   ]
  },
  {
   "cell_type": "code",
   "execution_count": null,
   "id": "5b5ceeef",
   "metadata": {},
   "outputs": [],
   "source": [
    "# Get files from isoplot directory\n",
    "filenames = dir('isoplot',pattern='*.csv')\n",
    "print(filenames)"
   ]
  },
  {
   "cell_type": "code",
   "execution_count": null,
   "id": "f6ef83f6",
   "metadata": {},
   "outputs": [],
   "source": [
    "# Create new directories for concordia and MLA ages\n",
    "dir.create(file.path('isoplot','concordia'),showWarnings=FALSE)\n",
    "dir.create(file.path('isoplot','MLA'),showWarnings=FALSE)\n",
    "\n",
    "# Calculate concordia and MLA ages for each sample and output full table\n",
    "for (f in filenames) {\n",
    "    \n",
    "    # Calculate ages from isotopic data\n",
    "    filepath <- file.path('isoplot',f)\n",
    "    UPb <- read.data(filepath,method='U-Pb',format=2)\n",
    "    tr <- age(UPb)\n",
    "    \n",
    "    # Output the age results to csv\n",
    "    out_f <- sub('\\\\.csv$','_processed.csv',f)\n",
    "    out_path <- file.path('isoplot','concordia',out_f)\n",
    "    write.csv(tr,file=out_path)\n",
    "    \n",
    "    # Make and save radial plot\n",
    "    plot_name <- sub('\\\\.csv$','.jpg',f)\n",
    "    plot_path <- file.path('isoplot','MLA',plot_name)\n",
    "    \n",
    "    jpeg(plot_path,units='in',width=6,height=6,res=300)\n",
    "    radialplot(UPb,k='min')\n",
    "    dev.off()\n",
    "    \n",
    "    # Get minimum age from radial plot in separate table\n",
    "    mla <- peakfit(UPb,k='min')\n",
    "    mla_path <- file.path('isoplot','MLA',sub('\\\\.csv$','_mla.csv',f))\n",
    "    write.csv(mla$peaks,file=mla_path)\n",
    "}"
   ]
  }
 ],
 "metadata": {
  "kernelspec": {
   "display_name": "R",
   "language": "R",
   "name": "ir"
  },
  "language_info": {
   "codemirror_mode": "r",
   "file_extension": ".r",
   "mimetype": "text/x-r-source",
   "name": "R",
   "pygments_lexer": "r",
   "version": "4.1.3"
  }
 },
 "nbformat": 4,
 "nbformat_minor": 5
}
