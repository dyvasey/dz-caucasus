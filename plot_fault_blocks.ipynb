{
 "cells": [
  {
   "cell_type": "code",
   "execution_count": null,
   "id": "15dda44e",
   "metadata": {},
   "outputs": [],
   "source": [
    "# Imports - run first\n",
    "import os\n",
    "import pandas as pd\n",
    "import numpy as np\n",
    "import matplotlib.pyplot as plt\n",
    "\n",
    "from geoscripts.dz import dz\n",
    "\n",
    "samples_published = dz.load_all()\n",
    "\n",
    "# Load in new samples from CSVs\n",
    "samples_new = []\n",
    "folder = 'Garcia_Samples/'\n",
    "for file in os.listdir(folder):\n",
    "    data = pd.read_csv(folder+file)\n",
    "    name = file.split('.')[0]\n",
    "    sample = dz.DZSample(name=name,agedata=data)\n",
    "    sample.bestage = sample.agedata['Best Age']\n",
    "    samples_new.append(sample)\n",
    "    sample.color='blue'\n",
    "\n",
    "\n",
    "samples = samples_published + samples_new\n",
    "\n",
    "def plot_fault_block(names,save=False,filename=None):\n",
    "    smps = [smp for smp in samples if smp.name in names]\n",
    "    \n",
    "    nplots = len(names)\n",
    "    height = nplots*1.5\n",
    "    \n",
    "    fig,axs = plt.subplots(nplots,sharex=True,dpi=300,figsize=(7.5,height))\n",
    "    \n",
    "    if len(names)==1:\n",
    "        smp = smps[0]\n",
    "        smp.kde(ax=axs)\n",
    "        axs.set_title(smp.name)\n",
    "        axs.set_xlim(100,4000)\n",
    "    \n",
    "    else:\n",
    "        for k,smp in enumerate(smps):\n",
    "            smp.kde(ax=axs[k])\n",
    "            axs[k].set_title(smp.name)\n",
    "            axs[k].set_xlim(100,4000)\n",
    "\n",
    "    plt.tight_layout()\n",
    "    \n",
    "    if save == True:\n",
    "        fig.savefig(filename)\n",
    "    \n",
    "    return(smps)"
   ]
  },
  {
   "cell_type": "code",
   "execution_count": null,
   "id": "7ce005b5",
   "metadata": {},
   "outputs": [],
   "source": [
    "dizi_names = ['NW-GC','N5','Khelra','WGC-2','100211-9A']\n",
    "\n",
    "dizi_samples = plot_fault_block(dizi_names,save=True,filename='dizi_block.pdf')\n"
   ]
  },
  {
   "cell_type": "code",
   "execution_count": null,
   "id": "82f73a02",
   "metadata": {},
   "outputs": [],
   "source": [
    "idliani_names = ['Khopuri','CT130918-9A','CT130919-5A']\n",
    "\n",
    "plot_fault_block(idliani_names,save=True,filename='idliani_block.pdf')"
   ]
  },
  {
   "cell_type": "code",
   "execution_count": null,
   "id": "90c16f7c",
   "metadata": {},
   "outputs": [],
   "source": [
    "jvari_names = ['SW-GC','WGC-3','CT130919-8A']\n",
    "\n",
    "plot_fault_block(jvari_names,save=True,filename='jvari_block.pdf')"
   ]
  },
  {
   "cell_type": "code",
   "execution_count": null,
   "id": "6ffeac61",
   "metadata": {},
   "outputs": [],
   "source": [
    "names = ['NW-GC','N5','Khelra','WGC-2','100211-9A']\n",
    "\n",
    "samples = plot_fault_block(dizi_names,save=True,filename='block.pdf')"
   ]
  }
 ],
 "metadata": {
  "kernelspec": {
   "display_name": "Python 3 (ipykernel)",
   "language": "python",
   "name": "python3"
  },
  "language_info": {
   "codemirror_mode": {
    "name": "ipython",
    "version": 3
   },
   "file_extension": ".py",
   "mimetype": "text/x-python",
   "name": "python",
   "nbconvert_exporter": "python",
   "pygments_lexer": "ipython3",
   "version": "3.10.4"
  }
 },
 "nbformat": 4,
 "nbformat_minor": 5
}
