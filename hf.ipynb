{
 "cells": [
  {
   "cell_type": "code",
   "execution_count": null,
   "metadata": {},
   "outputs": [],
   "source": [
    "import os\n",
    "import pandas as pd\n",
    "import numpy as np\n",
    "import matplotlib.pyplot as plt\n",
    "\n",
    "from matplotlib import rc\n",
    "rc(\"pdf\", fonttype=42)\n",
    "\n",
    "from geoscripts.dz import dz"
   ]
  },
  {
   "cell_type": "code",
   "execution_count": null,
   "metadata": {},
   "outputs": [],
   "source": [
    "hf_directory = \"hf_data/\"\n",
    "samples = ['100311-3A','C17069B','V17043A']\n",
    "\n",
    "paths = [hf_directory+sample+'.csv' for sample in samples]\n",
    "\n",
    "data = [pd.read_csv(path) for path in paths]\n",
    "\n",
    "smps = []\n",
    "for k,df in enumerate(data):\n",
    "    smp = dz.DZSample(name=samples[k],agedata=df,source='Vasey22')\n",
    "    smp.calc_bestage(col_238='Age',col_207='Age')\n",
    "    smps.append(smp)"
   ]
  },
  {
   "cell_type": "code",
   "execution_count": null,
   "metadata": {},
   "outputs": [],
   "source": [
    "mayringer_directory = os.path.join(hf_directory,'Mayringer11.csv')\n",
    "\n",
    "mayringer_raw = pd.read_csv(mayringer_directory)\n",
    "\n",
    "# Assume age data for spot 14.2 is equal to spot 14.1 for 345\n",
    "age_cols = ['238Age','238sig2','207Age','207sig2']\n",
    "\n",
    "mayringer_raw.loc[45,age_cols] = mayringer_raw.loc[43,age_cols]\n",
    "\n",
    "names = list(mayringer_raw['Sample'].unique())\n",
    "print(names)\n",
    "\n",
    "msamples = []\n",
    "\n",
    "for name in names:\n",
    "    smp_boolean = mayringer_raw.loc[:,'Sample']==name\n",
    "    data = mayringer_raw.loc[smp_boolean]\n",
    "    \n",
    "    sample = dz.DZSample(name=name,agedata=data,source='Mayringer11')\n",
    "    print(sample.name)\n",
    "    \n",
    "    sample.calc_bestage(col_238='238Age',col_207='207Age',\n",
    "                        err_238='238sig2',err_207='207sig2',err_lev='2sig',\n",
    "                        filter_disc=False,use_err=True)\n",
    "    \n",
    "    young_pop = smp.bestage[(smp.bestage<350)].count()\n",
    "    \n",
    "    sample.syst_238 = 0.7\n",
    "\n",
    "    sample.calc_mda(method='manual',grains=np.arange(1,young_pop,1),systematic=True)\n",
    "\n",
    "    msamples.append(sample)"
   ]
  },
  {
   "cell_type": "code",
   "execution_count": null,
   "metadata": {},
   "outputs": [],
   "source": [
    "# Get crystallization ages for new samples\n",
    "\n",
    "dat_path = os.path.join(hf_directory,'Vasey_Upb9-19_datatable.xls')\n",
    "data = pd.read_excel(dat_path,skiprows=22)\n",
    "\n",
    "age_columns = ['Analysis','Best age','±.6']\n",
    "agedata = data[age_columns].dropna(how='any')\n",
    "#print(agedata)\n",
    "\n",
    "age_cutoffs = [190,190,330]\n",
    "\n",
    "syst_238 = 1.063742485\n",
    "\n",
    "ig_upb = []\n",
    "samples=['100311-3A','C17069B','V17043A']\n",
    "for k,name in enumerate(samples):\n",
    "    ages = agedata[agedata.Analysis.str.contains(name)]\n",
    "    ages.loc[:,'±.6'] = ages.loc[:,'±.6']*2\n",
    "    smp = dz.DZSample(name=name,agedata=ages)\n",
    "\n",
    "    smp.calc_bestage(col_238='Best age',col_207='Best age',err_238='±.6',err_207='±.6',err_lev='1sig',\n",
    "                        filter_disc=False,use_err=True)\n",
    "    smp.convert_1sigto2sig()\n",
    "    print(smp.error_level)\n",
    "    \n",
    "    young_pop = smp.bestage[smp.bestage<age_cutoffs[k]].count()\n",
    "    print(young_pop)\n",
    "\n",
    "    smp.syst_238 = syst_238\n",
    "\n",
    "    mda = smp.calc_mda(method='manual',grains=np.arange(0,young_pop,1),overdisperse=True,systematic=True)\n",
    "    ig_upb.append(smp)\n",
    "\n",
    "    print(mda[2],mda[3])\n"
   ]
  },
  {
   "cell_type": "code",
   "execution_count": null,
   "metadata": {},
   "outputs": [],
   "source": [
    "fig,axs = plt.subplots(1,3,dpi=300,figsize=(6.5,2.5))\n",
    "\n",
    "age_cutoffs = [190,190,330]\n",
    "title_text = ['SVAN (Andesite)','SVGD (Granodiorite)','SVGR (Granite)']\n",
    "\n",
    "for k,smp in enumerate(smps):\n",
    "    smp.kde_hf('Ehf',method=[5,1.5],cmap='Reds',xlim=(100,400),ylim=(-15,15),ax=axs.flat[k],vmin=0.05,include_ages=True,\n",
    "    marker_color='firebrick',alpha=1)\n",
    "    axs.flat[k].xaxis.label.set_size(8)\n",
    "    axs.flat[k].xaxis.label.set_size(8)\n",
    "    axs.flat[k].set_xticks([100,200,300,400])\n",
    "    axs.flat[k].set_yticks(np.arange(-15,16,5))\n",
    "    axs.flat[k].set_xticklabels([100,200,300,400],fontsize=6)\n",
    "    axs.flat[k].set_yticklabels(np.arange(-15,16,5),fontsize=6)\n",
    "    axs.flat[k].set_title(title_text[k],fontsize=8)\n",
    "\n",
    "    age,err = ig_upb[k].mda,ig_upb[k].mda_err\n",
    "\n",
    "    hf_young = smp.agedata[smp.agedata['Age']<age_cutoffs[k]]\n",
    "\n",
    "    mean_hf = np.mean(hf_young['Ehf'])\n",
    "    hf2sig = hf_young['Ehf'].std()*2\n",
    "    \n",
    "    hf_text = (\n",
    "        'Cryst. Age:\\n' + str(round(age,1)) + ' ± ' +  str(round(err,1)) +\n",
    "        ' Ma\\n$\\epsilon Hf_i$: ' + str(round(mean_hf,1)) + ' ± ' + str(round(hf2sig,1))\n",
    "    )\n",
    "    axs.flat[k].text(0.05,0.8,hf_text,transform=axs.flat[k].transAxes,fontsize=6)\n",
    "\n",
    "for smp in [msamples[1]]:\n",
    "    hf_young = smp.agedata[(smp.agedata['238Age']<350)&(smp.agedata['238Age']>300)]\n",
    "\n",
    "    mean_hf = np.mean(hf_young['epsHfinit_rep'])\n",
    "    hf2sig = hf_young['epsHfinit_rep'].std()*2\n",
    "    hf_text = (\n",
    "        'GE0345\\nCryst. Age: ' + str(round(smp.mda,1)) + ' ± ' +  str(round(smp.mda_err,1)) + \n",
    "        ' Ma\\n$\\epsilon Hf_i$: ' + str(round(mean_hf,1)) + ' ± ' + str(round(hf2sig,1))\n",
    "    )\n",
    "    axs.flat[2].text(0.05,0.05,hf_text,transform=axs.flat[k].transAxes,fontsize=6)\n",
    "\n",
    "    smp.kde_hf('epsHfinit_rep',method=[5,1.5],cmap='Blues',xlim=(100,400),ylim=(-15,15),ax=axs.flat[2],vmin=0.05,include_ages=True,\n",
    "    marker_color='skyblue',alpha=0.7)\n",
    "\n",
    "\n",
    "axs.flat[2].legend(fontsize=6)\n",
    "\n",
    "\n",
    "plt.tight_layout()\n",
    "fig.savefig('hf.pdf')\n"
   ]
  },
  {
   "cell_type": "code",
   "execution_count": null,
   "metadata": {},
   "outputs": [],
   "source": [
    "for smp in smps:\n",
    "    print(smp.name,smp.latlon)"
   ]
  },
  {
   "cell_type": "code",
   "execution_count": null,
   "metadata": {},
   "outputs": [],
   "source": [
    "from scipy.stats import gaussian_kde"
   ]
  },
  {
   "cell_type": "code",
   "execution_count": null,
   "metadata": {},
   "outputs": [],
   "source": [
    "ages = smps[0].bestage\n",
    "hf = smps[0].agedata['Ehf']\n",
    "\n",
    "print(ages,hf)\n",
    "\n",
    "ages_kde = gaussian_kde(ages)\n",
    "hf_kde = gaussian_kde(hf)\n",
    "\n",
    "xgrid = np.linspace(0,500,100)\n",
    "ygrid = np.linspace(-20,15,100)\n",
    "\n",
    "ages_density = ages_kde(xgrid)\n",
    "hf_density = hf_kde(ygrid)"
   ]
  },
  {
   "cell_type": "code",
   "execution_count": null,
   "metadata": {},
   "outputs": [],
   "source": [
    "import statsmodels.api as sm"
   ]
  },
  {
   "cell_type": "code",
   "execution_count": null,
   "metadata": {},
   "outputs": [],
   "source": [
    "sdata = np.vstack([ages,hf]).T\n",
    "print(sdata.shape)\n",
    "print(sdata)\n",
    "\n",
    "print(np.diag([4,2]))\n",
    "\n",
    "dens_u = sm.nonparametric.KDEMultivariate(data=sdata, var_type='cc', bw=[4,2])\n"
   ]
  },
  {
   "cell_type": "code",
   "execution_count": null,
   "metadata": {},
   "outputs": [],
   "source": [
    "xx,yy = np.meshgrid(xgrid,ygrid)\n",
    "\n",
    "print(xx)\n",
    "print(yy)\n",
    "\n",
    "grid_coords = np.append(xx.reshape(-1,1), yy.reshape(-1,1),axis=1)\n",
    "\n",
    "print(grid_coords.shape)\n",
    "\n",
    "z = dens_u.pdf(grid_coords)\n",
    "\n",
    "print(z.shape)\n",
    "\n",
    "z = z.reshape(len(ygrid), len(xgrid))\n",
    "\n",
    "print(z)"
   ]
  },
  {
   "cell_type": "code",
   "execution_count": null,
   "metadata": {},
   "outputs": [],
   "source": [
    "plt.contourf(xgrid,ygrid,z)"
   ]
  },
  {
   "cell_type": "code",
   "execution_count": null,
   "metadata": {},
   "outputs": [],
   "source": [
    "samples = ig_upb + [msamples[1]]\n",
    "\n",
    "fig, axs = plt.subplots(2,2,dpi=300,figsize=(6.5,4.5))\n",
    "\n",
    "for k,smp in enumerate(samples):\n",
    "    print(smp.name,smp.mda)\n",
    "    smp.plot_mda(axs.flat[k],syst_error=True)\n",
    "\n",
    "plt.tight_layout()\n",
    "\n",
    "fig.savefig('cryst_ages.pdf')"
   ]
  }
 ],
 "metadata": {
  "kernelspec": {
   "display_name": "Python 3.10.6 ('dz-caucasus')",
   "language": "python",
   "name": "python3"
  },
  "language_info": {
   "codemirror_mode": {
    "name": "ipython",
    "version": 3
   },
   "file_extension": ".py",
   "mimetype": "text/x-python",
   "name": "python",
   "nbconvert_exporter": "python",
   "pygments_lexer": "ipython3",
   "version": "3.10.6"
  },
  "orig_nbformat": 4,
  "vscode": {
   "interpreter": {
    "hash": "f038b7d0f4df87b5175ef903829c8221d895983c42959ab903f754a902ac8a00"
   }
  }
 },
 "nbformat": 4,
 "nbformat_minor": 2
}
