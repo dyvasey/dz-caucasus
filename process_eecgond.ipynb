{
 "cells": [
  {
   "cell_type": "code",
   "execution_count": 1,
   "metadata": {},
   "outputs": [],
   "source": [
    "import pandas as pd\n",
    "from geoscripts.dz import dz\n",
    "import numpy as np"
   ]
  },
  {
   "cell_type": "code",
   "execution_count": 2,
   "metadata": {},
   "outputs": [
    {
     "name": "stderr",
     "output_type": "stream",
     "text": [
      "C:\\Users\\dyvas\\AppData\\Local\\Temp\\ipykernel_20220\\3159294678.py:16: SettingWithCopyWarning: \n",
      "A value is trying to be set on a copy of a slice from a DataFrame.\n",
      "Try using .loc[row_indexer,col_indexer] = value instead\n",
      "\n",
      "See the caveats in the documentation: https://pandas.pydata.org/pandas-docs/stable/user_guide/indexing.html#returning-a-view-versus-a-copy\n",
      "  dfs[x].Age = dfs[x].Age.astype(float)\n"
     ]
    },
    {
     "name": "stdout",
     "output_type": "stream",
     "text": [
      "Index([0, 1, 2, 3, 4, 5, 6, 7, 8, 9, '238 Age', 11, 12, 13, '207 Age', 15, 16], dtype='object')\n",
      "Index([0, 1, 2, 3, 4, 5, 6, 7, 8, 9, '238 Age', 11, 12, 13, 14, 15, '207 Age',\n",
      "       17, 18],\n",
      "      dtype='object')\n"
     ]
    }
   ],
   "source": [
    "eec_gond_dir = './gondwana-eec'\n",
    "wang = '/Wang10_Data.xlsx'\n",
    "safanova = '/Safanova_Supplement.xls'\n",
    "\n",
    "wang_volga = pd.read_excel(eec_gond_dir+wang,sheet_name='Volga')\n",
    "wang_don = pd.read_excel(eec_gond_dir+wang,sheet_name='Don')\n",
    "wang_dnieper = pd.read_excel(eec_gond_dir+wang,sheet_name='Dnieper')\n",
    "\n",
    "names = ['Wang_Volga','Wang_Don','Wang-Dnieper']\n",
    "dfs = [wang_volga,wang_don,wang_dnieper]\n",
    "\n",
    "smps = []\n",
    "\n",
    "for x, name in enumerate(names):\n",
    "    dfs[x] = dfs[x][dfs[x].Age.str.contains('excluded',na=False)==False] \n",
    "    dfs[x].Age = dfs[x].Age.astype(float)\n",
    "    smp = dz.DZSample(name=name,agedata=dfs[x])\n",
    "\n",
    "    smp.calc_bestage(col_238='Age',col_207='Age',filter_disc=False)\n",
    "    smps.append(smp)\n",
    "    smp.save()\n",
    "\n",
    "saf_volga = pd.read_excel(eec_gond_dir+safanova,sheet_name='Volga',names=np.arange(0,17,1),skiprows=2)\n",
    "saf_volga.rename(columns={10:'238 Age',14:'207 Age'},inplace=True)\n",
    "\n",
    "saf_don = pd.read_excel(eec_gond_dir+safanova,sheet_name='Don',names=np.arange(0,19,1),skiprows=2)\n",
    "saf_don.rename(columns={10:'238 Age',16:'207 Age'},inplace=True)\n",
    "\n",
    "names = ['Safanova_Volga','Safanova_Don']\n",
    "dfs = [saf_volga,saf_don]\n",
    "\n",
    "for x, name in enumerate(names):\n",
    "    smp = dz.DZSample(name=name,agedata=dfs[x])\n",
    "    print(smp.agedata.columns)\n",
    "    smp.calc_bestage(col_238='238 Age',col_207='207 Age',filter_disc=False)\n",
    "    smps.append(smp)\n",
    "    smp.save()\n"
   ]
  },
  {
   "cell_type": "code",
   "execution_count": 3,
   "metadata": {},
   "outputs": [],
   "source": [
    "iizuka = '/Iizuka_Supplement.xlsx'\n",
    "\n",
    "sheets = ['Niger','Niger2','Nile','Nile2','Congo','Congo2','Zambezi','Zambezi2','Orange','Orange2']\n",
    "\n",
    "smps = []\n",
    "for sheet in sheets:\n",
    "    df = pd.read_excel(eec_gond_dir+iizuka,sheet_name=sheet)\n",
    "    smp = dz.DZSample(name=sheet,agedata=df)\n",
    "    smp.calc_bestage(col_238='Best Age',col_207='Best Age',filter_disc=False)\n",
    "    smps.append(smp)\n",
    "    smp.save()"
   ]
  }
 ],
 "metadata": {
  "kernelspec": {
   "display_name": "Python 3.10.4 ('dz')",
   "language": "python",
   "name": "python3"
  },
  "language_info": {
   "codemirror_mode": {
    "name": "ipython",
    "version": 3
   },
   "file_extension": ".py",
   "mimetype": "text/x-python",
   "name": "python",
   "nbconvert_exporter": "python",
   "pygments_lexer": "ipython3",
   "version": "3.10.4"
  },
  "orig_nbformat": 4,
  "vscode": {
   "interpreter": {
    "hash": "d09ad7a30524e09dcd6c5f83dc9319f1548d3d69de1be543c70b0701bd04bc66"
   }
  }
 },
 "nbformat": 4,
 "nbformat_minor": 2
}
