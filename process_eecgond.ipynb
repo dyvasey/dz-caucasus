{
 "cells": [
  {
   "cell_type": "markdown",
   "metadata": {},
   "source": [
    "### Process East European Craton (EEC) and Gondwana DZ Data ###\n",
    "This notebook processes DZ data from modern rivers draining the East European Craton (EEC) and Africa (representing Gondwana). All cells must be run before plotting the composite curves used in the `figs.ipynb` notebook."
   ]
  },
  {
   "cell_type": "code",
   "execution_count": null,
   "metadata": {},
   "outputs": [],
   "source": [
    "import pandas as pd\n",
    "from geoscripts.dz import dz\n",
    "import numpy as np"
   ]
  },
  {
   "cell_type": "code",
   "execution_count": null,
   "metadata": {},
   "outputs": [],
   "source": [
    "# EEC\n",
    "# Set locations for data\n",
    "\n",
    "eec_gond_dir = './gondwana-eec'\n",
    "wang = '/Wang10_Data.xlsx'\n",
    "safanova = '/Safanova_Supplement.xls'\n",
    "\n",
    "# Read in data for Wang\n",
    "\n",
    "wang_volga = pd.read_excel(eec_gond_dir+wang,sheet_name='Volga')\n",
    "wang_don = pd.read_excel(eec_gond_dir+wang,sheet_name='Don')\n",
    "wang_dnieper = pd.read_excel(eec_gond_dir+wang,sheet_name='Dnieper')\n",
    "\n",
    "names = ['Wang_Volga','Wang_Don','Wang-Dnieper']\n",
    "dfs = [wang_volga,wang_don,wang_dnieper]\n",
    "\n",
    "# Create DZ objects using geoscripts for Wang\n",
    "\n",
    "smps = []\n",
    "for x, name in enumerate(names):\n",
    "    dfs[x] = dfs[x][dfs[x].Age.str.contains('excluded',na=False)==False] \n",
    "    dfs[x].Age = dfs[x].Age.astype(float)\n",
    "    smp = dz.DZSample(name=name,agedata=dfs[x])\n",
    "\n",
    "    smp.calc_bestage(col_238='Age',col_207='Age',filter_disc=False)\n",
    "    smps.append(smp)\n",
    "    smp.save()\n",
    "\n",
    "# Read in data for Safanova\n",
    "\n",
    "saf_volga = pd.read_excel(eec_gond_dir+safanova,sheet_name='Volga',names=np.arange(0,17,1),skiprows=2)\n",
    "saf_volga.rename(columns={10:'238 Age',14:'207 Age'},inplace=True)\n",
    "\n",
    "saf_don = pd.read_excel(eec_gond_dir+safanova,sheet_name='Don',names=np.arange(0,19,1),skiprows=2)\n",
    "saf_don.rename(columns={10:'238 Age',16:'207 Age'},inplace=True)\n",
    "\n",
    "names = ['Safanova_Volga','Safanova_Don']\n",
    "dfs = [saf_volga,saf_don]\n",
    "\n",
    "# Create DZ objects using geoscripts for Safanova\n",
    "\n",
    "for x, name in enumerate(names):\n",
    "    smp = dz.DZSample(name=name,agedata=dfs[x])\n",
    "    print(smp.agedata.columns)\n",
    "    smp.calc_bestage(col_238='238 Age',col_207='207 Age',filter_disc=False)\n",
    "    smps.append(smp)\n",
    "    smp.save()\n"
   ]
  },
  {
   "cell_type": "code",
   "execution_count": null,
   "metadata": {},
   "outputs": [],
   "source": [
    "# Africa/Gondwana - Iizuka\n",
    "\n",
    "# Read in data for Iizuka\n",
    "\n",
    "iizuka = '/Iizuka_Supplement.xlsx'\n",
    "\n",
    "sheets = ['Niger','Niger2','Nile','Nile2','Congo','Congo2','Zambezi','Zambezi2','Orange','Orange2']\n",
    "\n",
    "# Create DZ objects using geoscripts for Iizuka\n",
    "\n",
    "smps = []\n",
    "for sheet in sheets:\n",
    "    df = pd.read_excel(eec_gond_dir+iizuka,sheet_name=sheet)\n",
    "    smp = dz.DZSample(name=sheet,agedata=df)\n",
    "    smp.calc_bestage(col_238='Best Age',col_207='Best Age',filter_disc=False)\n",
    "    smps.append(smp)\n",
    "    smp.save()"
   ]
  }
 ],
 "metadata": {
  "kernelspec": {
   "display_name": "Python 3 (ipykernel)",
   "language": "python",
   "name": "python3"
  },
  "language_info": {
   "codemirror_mode": {
    "name": "ipython",
    "version": 3
   },
   "file_extension": ".py",
   "mimetype": "text/x-python",
   "name": "python",
   "nbconvert_exporter": "python",
   "pygments_lexer": "ipython3",
   "version": "3.10.11"
  },
  "vscode": {
   "interpreter": {
    "hash": "f0fecc7f93da509b90f142515abda6685b72452058a054a4b9403d2e70ca67c4"
   }
  }
 },
 "nbformat": 4,
 "nbformat_minor": 4
}
