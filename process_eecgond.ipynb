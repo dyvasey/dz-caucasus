{
 "cells": [
  {
   "cell_type": "code",
   "execution_count": null,
   "metadata": {},
   "outputs": [],
   "source": [
    "import pandas as pd\n",
    "from geoscripts.dz import dz\n",
    "import numpy as np"
   ]
  },
  {
   "cell_type": "code",
   "execution_count": null,
   "metadata": {},
   "outputs": [],
   "source": [
    "eec_gond_dir = './gondwana-eec'\n",
    "wang = '/Wang10_Data.xlsx'\n",
    "safanova = '/Safanova_Supplement.xls'\n",
    "\n",
    "wang_volga = pd.read_excel(eec_gond_dir+wang,sheet_name='Volga')\n",
    "wang_don = pd.read_excel(eec_gond_dir+wang,sheet_name='Don')\n",
    "wang_dnieper = pd.read_excel(eec_gond_dir+wang,sheet_name='Dnieper')\n",
    "\n",
    "names = ['Wang_Volga','Wang_Don','Wang-Dnieper']\n",
    "dfs = [wang_volga,wang_don,wang_dnieper]\n",
    "\n",
    "smps = []\n",
    "\n",
    "for x, name in enumerate(names):\n",
    "    dfs[x] = dfs[x][dfs[x].Age.str.contains('excluded',na=False)==False] \n",
    "    dfs[x].Age = dfs[x].Age.astype(float)\n",
    "    smp = dz.DZSample(name=name,agedata=dfs[x])\n",
    "\n",
    "    smp.calc_bestage(col_238='Age',col_207='Age',filter_disc=False)\n",
    "    smps.append(smp)\n",
    "    smp.save()\n",
    "\n",
    "saf_volga = pd.read_excel(eec_gond_dir+safanova,sheet_name='Volga',names=np.arange(0,17,1),skiprows=2)\n",
    "saf_volga.rename(columns={10:'238 Age',14:'207 Age'},inplace=True)\n",
    "\n",
    "saf_don = pd.read_excel(eec_gond_dir+safanova,sheet_name='Don',names=np.arange(0,19,1),skiprows=2)\n",
    "saf_don.rename(columns={10:'238 Age',16:'207 Age'},inplace=True)\n",
    "\n",
    "names = ['Safanova_Volga','Safanova_Don']\n",
    "dfs = [saf_volga,saf_don]\n",
    "\n",
    "for x, name in enumerate(names):\n",
    "    smp = dz.DZSample(name=name,agedata=dfs[x])\n",
    "    print(smp.agedata.columns)\n",
    "    smp.calc_bestage(col_238='238 Age',col_207='207 Age',filter_disc=False)\n",
    "    smps.append(smp)\n",
    "    smp.save()\n"
   ]
  },
  {
   "cell_type": "code",
   "execution_count": null,
   "metadata": {},
   "outputs": [],
   "source": [
    "iizuka = '/Iizuka_Supplement.xlsx'\n",
    "\n",
    "sheets = ['Niger','Niger2','Nile','Nile2','Congo','Congo2','Zambezi','Zambezi2','Orange','Orange2']\n",
    "\n",
    "smps = []\n",
    "for sheet in sheets:\n",
    "    df = pd.read_excel(eec_gond_dir+iizuka,sheet_name=sheet)\n",
    "    smp = dz.DZSample(name=sheet,agedata=df)\n",
    "    smp.calc_bestage(col_238='Best Age',col_207='Best Age',filter_disc=False)\n",
    "    smps.append(smp)\n",
    "    smp.save()"
   ]
  }
 ],
 "metadata": {
  "kernelspec": {
   "display_name": "Python 3.10.6 ('dz-caucasus')",
   "language": "python",
   "name": "python3"
  },
  "language_info": {
   "codemirror_mode": {
    "name": "ipython",
    "version": 3
   },
   "file_extension": ".py",
   "mimetype": "text/x-python",
   "name": "python",
   "nbconvert_exporter": "python",
   "pygments_lexer": "ipython3",
   "version": "3.10.6"
  },
  "orig_nbformat": 4,
  "vscode": {
   "interpreter": {
    "hash": "f038b7d0f4df87b5175ef903829c8221d895983c42959ab903f754a902ac8a00"
   }
  }
 },
 "nbformat": 4,
 "nbformat_minor": 2
}
